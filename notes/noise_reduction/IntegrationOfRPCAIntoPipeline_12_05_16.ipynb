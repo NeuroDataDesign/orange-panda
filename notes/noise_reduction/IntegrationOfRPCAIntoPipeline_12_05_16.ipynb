{
 "cells": [
  {
   "cell_type": "code",
   "execution_count": 15,
   "metadata": {
    "collapsed": false
   },
   "outputs": [],
   "source": [
    "import numpy as np\n",
    "import h5py\n",
    "import pandas as pd \n",
    "import matplotlib.pyplot as plt\n",
    "\n",
    "import math\n",
    "\n",
    "import sklearn\n",
    "import statsmodels\n",
    "from statsmodels import robust\n",
    "\n",
    "from sklearn import decomposition\n",
    "from sklearn.decomposition import PCA\n",
    "from sklearn import datasets\n",
    "from scipy import stats\n",
    "from sklearn.preprocessing import scale\n",
    "from sklearn.covariance import EmpiricalCovariance, MinCovDet\n",
    "    \n",
    "## Definition of a Gaussian\n",
    "def gaussian(x, mu, sig):\n",
    "    return 1./(math.sqrt(2.*math.pi)*sig)*np.exp(-np.power((x - mu)/sig, 2.)/2)\n",
    "\n",
    "## Removing Outliers Using the Median Absolute Deviation \n",
    "def remove_outliers(data):\n",
    "    filtered = []\n",
    "    m = 3\n",
    "    u = np.median(data)\n",
    "    s = robust.mad(data, c = 1, axis = 0 )\n",
    "    #print (\"The Median of the Data and the Median Absolute Deviant, Respectively\")\n",
    "    #print u\n",
    "    #print s\n",
    "    #print \"\\n\"\n",
    "    for e in range(data.shape[0]):\n",
    "        if u-3*s < data[e] < u+3*s:\n",
    "            filtered.append(data[e])\n",
    "        else:\n",
    "            filtered.append(np.nan)\n",
    "    return filtered\n",
    "\n",
    "## Returning a 2-D Array given a 4-D Array\n",
    "def dimension_reduction(eegdata, c, d):\n",
    "    temp = eegdata[:,:,c,d]\n",
    "    return temp\n",
    "\n",
    "## Robust PCA Code\n",
    "def robustPCA(eeg_data, method):\n",
    "    if method == \"RobustPCA\":\n",
    "        out = \"\"\n",
    "        out += \"<h3> RUNNING ROBUST PCA </h3>\"\n",
    "        print \"Data will be downsampled by a factor of 100 due to the maximum amount of RAM Robust PCA can handle at once\"\n",
    "        eeg_data = eeg_data[::100,:,:,:]\n",
    "        for p in range(eeg_data.shape[3]):\n",
    "            print 'Noise reduction for patient ' + str(p)\n",
    "            for t in range(eeg_data.shape[2]):\n",
    "                print 'Noise reduction for trial ' + str(t)\n",
    "                out += '<h4>Actions for patient ' + str(p) + '</h4>'\n",
    "\n",
    "                ##Creating Covariance Matrix and via Median Screening of Outliers\n",
    "                \n",
    "                new_data = []\n",
    "                \n",
    "                #print (\"Matrix Created Before Removing the Outliers Using Median Absolute Deviant\")\n",
    "                #print (eeg_data[:,:,t,p])\n",
    "                #print \"\\n\"\n",
    "\n",
    "                for c in range(eeg_data.shape[1]):\n",
    "                    if new_data == []:\n",
    "                        temp = remove_outliers(eeg_data[:,c,t,p])\n",
    "                        new_data = temp\n",
    "                    else:\n",
    "                        temp = remove_outliers(eeg_data[:,c,t,p])\n",
    "                        new_data = np.vstack((new_data, temp))\n",
    "                #print (\"Matrix Created After Removing the Median Absolute Deviant\")\n",
    "                #print (new_data)\n",
    "                #print \"\\n\"\n",
    "                maskedarr = np.ma.array(new_data, mask=np.isnan(new_data))\n",
    "                cov_mat = np.ma.cov(maskedarr,rowvar=False,allow_masked=True)\n",
    "                #print \"Robust Covariance Matrix:\"\n",
    "                #print cov_mat\n",
    "                #print \"\\n\"\n",
    "\n",
    "                ##Defining Eigenvalues and Eigenvectors\n",
    "\n",
    "                eig_val_cov, eig_vec_cov = np.linalg.eig(cov_mat)\n",
    "                numTimesteps = len(eeg_data[:,0,t,p])\n",
    "                numElectrodes = len(eeg_data[0,:,t,p])\n",
    "                for i in range(len(eig_val_cov)):\n",
    "                    eigvec_cov = eig_vec_cov[:,i].reshape(1,numTimesteps).T\n",
    "                    #print('Eigenvector {}: \\n{}'.format(i+1, eigvec_cov))\n",
    "                    #print('Eigenvalue {} from covariance matrix: {}'.format(i+1, eig_val_cov[i]))\n",
    "                    #print('\\n')\n",
    "                eig_pairs = [(np.abs(eig_val_cov[i]), eig_vec_cov[:,i]) for i in range(len(eig_val_cov))]\n",
    "                eig_pairs.sort(key=lambda x: x[0], reverse=True)\n",
    "                \n",
    "                ## Making the Elbow\n",
    "\n",
    "                array = []\n",
    "                for x in range(numTimesteps):\n",
    "                    array.append(eig_pairs[x][0])\n",
    "                array2 = [x * 1000 for x in array] \n",
    "\n",
    "                p1 = len(array2)\n",
    "                totalSum = [0]*(p1-1)\n",
    "\n",
    "                for q in range(1,p1):\n",
    "                    FirstArray, SecondArray = np.split(array2, [q,])\n",
    "                    mu1 = np.mean(FirstArray)\n",
    "                    mu2 = np.mean(SecondArray)\n",
    "                    s1 = np.var(FirstArray)\n",
    "                    s2 = np.var(SecondArray)\n",
    "                    if q-1 == 0:\n",
    "                        s1 = 0\n",
    "                    totalvariance = (((q-1)*(s1*s1)) + ((p1-q-1)*(s2*s2))) / (p1-2)\n",
    "                    Sum1 = 0\n",
    "                    Sum2 = 0\n",
    "                    for i in range(len(FirstArray)):\n",
    "                        x = FirstArray[i]\n",
    "                        x1 = np.log10(gaussian(x, mu1, totalvariance))\n",
    "                        Sum1 += x1\n",
    "                    for j in range(len(SecondArray)):\n",
    "                        y = SecondArray[j]\n",
    "                        y1 = np.log10(gaussian(y, mu2, totalvariance))\n",
    "                        Sum2 += y1\n",
    "                    totalSum[q-1] = Sum1 + Sum2\n",
    "\n",
    "                dimension = np.argmax(totalSum) + 1\n",
    "                print \"The Number of Principal Components to Retain:\"\n",
    "                print dimension\n",
    "                print \"\\n\"\n",
    "                \n",
    "                \n",
    "                \n",
    "                ## Making the matrix with only the wanted eigenvectors\n",
    "                \n",
    "                matrix_w = eig_pairs[0][1].reshape(numTimesteps,1)\n",
    "                for x in range(0, dimension-1):\n",
    "                    matrix_w = np.hstack((matrix_w, eig_pairs[x][1].reshape(numTimesteps,1)))\n",
    "                    print matrix_w\n",
    "                dotArray = dimension_reduction(eeg_data,t,p)\n",
    "                eeg_data = matrix_w.T.dot(dotArray)\n",
    "                print (\"The Post-RPCA Matrix\")\n",
    "                print eeg_data\n",
    "                return eeg_data\n",
    "\n",
    "        return eeg_data, out\n",
    "    else:\n",
    "        return eeg_data, '<h3> No Robust PCA was done </h3>'\n"
   ]
  },
  {
   "cell_type": "code",
   "execution_count": 16,
   "metadata": {
    "collapsed": false
   },
   "outputs": [
    {
     "name": "stdout",
     "output_type": "stream",
     "text": [
      "Data will be downsampled by a factor of 100 due to the maximum amount of RAM Robust PCA can handle at once\n",
      "Noise reduction for patient 0\n",
      "Noise reduction for trial 0\n"
     ]
    },
    {
     "ename": "LinAlgError",
     "evalue": "0-dimensional array given. Array must be at least two-dimensional",
     "output_type": "error",
     "traceback": [
      "\u001b[0;31m---------------------------------------------------------------------------\u001b[0m",
      "\u001b[0;31mLinAlgError\u001b[0m                               Traceback (most recent call last)",
      "\u001b[0;32m<ipython-input-16-5bc0d0e710cc>\u001b[0m in \u001b[0;36m<module>\u001b[0;34m()\u001b[0m\n\u001b[0;32m----> 1\u001b[0;31m \u001b[0mPostRPCA\u001b[0m \u001b[1;33m=\u001b[0m \u001b[0mrobustPCA\u001b[0m\u001b[1;33m(\u001b[0m\u001b[0meeg_sample_data\u001b[0m\u001b[1;33m,\u001b[0m \u001b[1;34m\"RobustPCA\"\u001b[0m\u001b[1;33m)\u001b[0m\u001b[1;33m\u001b[0m\u001b[0m\n\u001b[0m",
      "\u001b[0;32m<ipython-input-15-2b005cae7fd1>\u001b[0m in \u001b[0;36mrobustPCA\u001b[0;34m(eeg_data, method)\u001b[0m\n\u001b[1;32m     82\u001b[0m                 \u001b[1;31m##Defining Eigenvalues and Eigenvectors\u001b[0m\u001b[1;33m\u001b[0m\u001b[1;33m\u001b[0m\u001b[0m\n\u001b[1;32m     83\u001b[0m \u001b[1;33m\u001b[0m\u001b[0m\n\u001b[0;32m---> 84\u001b[0;31m                 \u001b[0meig_val_cov\u001b[0m\u001b[1;33m,\u001b[0m \u001b[0meig_vec_cov\u001b[0m \u001b[1;33m=\u001b[0m \u001b[0mnp\u001b[0m\u001b[1;33m.\u001b[0m\u001b[0mlinalg\u001b[0m\u001b[1;33m.\u001b[0m\u001b[0meig\u001b[0m\u001b[1;33m(\u001b[0m\u001b[0mcov_mat\u001b[0m\u001b[1;33m)\u001b[0m\u001b[1;33m\u001b[0m\u001b[0m\n\u001b[0m\u001b[1;32m     85\u001b[0m                 \u001b[0mnumTimesteps\u001b[0m \u001b[1;33m=\u001b[0m \u001b[0mlen\u001b[0m\u001b[1;33m(\u001b[0m\u001b[0meeg_data\u001b[0m\u001b[1;33m[\u001b[0m\u001b[1;33m:\u001b[0m\u001b[1;33m,\u001b[0m\u001b[1;36m0\u001b[0m\u001b[1;33m,\u001b[0m\u001b[0mt\u001b[0m\u001b[1;33m,\u001b[0m\u001b[0mp\u001b[0m\u001b[1;33m]\u001b[0m\u001b[1;33m)\u001b[0m\u001b[1;33m\u001b[0m\u001b[0m\n\u001b[1;32m     86\u001b[0m                 \u001b[0mnumElectrodes\u001b[0m \u001b[1;33m=\u001b[0m \u001b[0mlen\u001b[0m\u001b[1;33m(\u001b[0m\u001b[0meeg_data\u001b[0m\u001b[1;33m[\u001b[0m\u001b[1;36m0\u001b[0m\u001b[1;33m,\u001b[0m\u001b[1;33m:\u001b[0m\u001b[1;33m,\u001b[0m\u001b[0mt\u001b[0m\u001b[1;33m,\u001b[0m\u001b[0mp\u001b[0m\u001b[1;33m]\u001b[0m\u001b[1;33m)\u001b[0m\u001b[1;33m\u001b[0m\u001b[0m\n",
      "\u001b[0;32mC:\\Program Files\\Anaconda2\\lib\\site-packages\\numpy\\linalg\\linalg.pyc\u001b[0m in \u001b[0;36meig\u001b[0;34m(a)\u001b[0m\n\u001b[1;32m   1118\u001b[0m     \"\"\"\n\u001b[1;32m   1119\u001b[0m     \u001b[0ma\u001b[0m\u001b[1;33m,\u001b[0m \u001b[0mwrap\u001b[0m \u001b[1;33m=\u001b[0m \u001b[0m_makearray\u001b[0m\u001b[1;33m(\u001b[0m\u001b[0ma\u001b[0m\u001b[1;33m)\u001b[0m\u001b[1;33m\u001b[0m\u001b[0m\n\u001b[0;32m-> 1120\u001b[0;31m     \u001b[0m_assertRankAtLeast2\u001b[0m\u001b[1;33m(\u001b[0m\u001b[0ma\u001b[0m\u001b[1;33m)\u001b[0m\u001b[1;33m\u001b[0m\u001b[0m\n\u001b[0m\u001b[1;32m   1121\u001b[0m     \u001b[0m_assertNdSquareness\u001b[0m\u001b[1;33m(\u001b[0m\u001b[0ma\u001b[0m\u001b[1;33m)\u001b[0m\u001b[1;33m\u001b[0m\u001b[0m\n\u001b[1;32m   1122\u001b[0m     \u001b[0m_assertFinite\u001b[0m\u001b[1;33m(\u001b[0m\u001b[0ma\u001b[0m\u001b[1;33m)\u001b[0m\u001b[1;33m\u001b[0m\u001b[0m\n",
      "\u001b[0;32mC:\\Program Files\\Anaconda2\\lib\\site-packages\\numpy\\linalg\\linalg.pyc\u001b[0m in \u001b[0;36m_assertRankAtLeast2\u001b[0;34m(*arrays)\u001b[0m\n\u001b[1;32m    200\u001b[0m         \u001b[1;32mif\u001b[0m \u001b[0mlen\u001b[0m\u001b[1;33m(\u001b[0m\u001b[0ma\u001b[0m\u001b[1;33m.\u001b[0m\u001b[0mshape\u001b[0m\u001b[1;33m)\u001b[0m \u001b[1;33m<\u001b[0m \u001b[1;36m2\u001b[0m\u001b[1;33m:\u001b[0m\u001b[1;33m\u001b[0m\u001b[0m\n\u001b[1;32m    201\u001b[0m             raise LinAlgError('%d-dimensional array given. Array must be '\n\u001b[0;32m--> 202\u001b[0;31m                     'at least two-dimensional' % len(a.shape))\n\u001b[0m\u001b[1;32m    203\u001b[0m \u001b[1;33m\u001b[0m\u001b[0m\n\u001b[1;32m    204\u001b[0m \u001b[1;32mdef\u001b[0m \u001b[0m_assertSquareness\u001b[0m\u001b[1;33m(\u001b[0m\u001b[1;33m*\u001b[0m\u001b[0marrays\u001b[0m\u001b[1;33m)\u001b[0m\u001b[1;33m:\u001b[0m\u001b[1;33m\u001b[0m\u001b[0m\n",
      "\u001b[0;31mLinAlgError\u001b[0m: 0-dimensional array given. Array must be at least two-dimensional"
     ]
    }
   ],
   "source": [
    "PostRPCA = robustPCA(eeg_sample_data, \"RobustPCA\")"
   ]
  },
  {
   "cell_type": "code",
   "execution_count": 17,
   "metadata": {
    "collapsed": false
   },
   "outputs": [
    {
     "data": {
      "image/png": "[encoded data removed]",
      "text/plain": [
       "<matplotlib.figure.Figure at 0xd2b9978>"
      ]
     },
     "metadata": {},
     "output_type": "display_data"
    },
    {
     "name": "stdout",
     "output_type": "stream",
     "text": [
      "Data will be downsampled by a factor of 100 due to the maximum amount of RAM Robust PCA can handle at once\n",
      "Noise reduction for patient 0\n",
      "Noise reduction for trial 0\n"
     ]
    },
    {
     "ename": "LinAlgError",
     "evalue": "0-dimensional array given. Array must be at least two-dimensional",
     "output_type": "error",
     "traceback": [
      "\u001b[0;31m---------------------------------------------------------------------------\u001b[0m",
      "\u001b[0;31mLinAlgError\u001b[0m                               Traceback (most recent call last)",
      "\u001b[0;32m<ipython-input-17-8da7c5cbf210>\u001b[0m in \u001b[0;36m<module>\u001b[0;34m()\u001b[0m\n\u001b[1;32m     10\u001b[0m \u001b[0mplt\u001b[0m\u001b[1;33m.\u001b[0m\u001b[0mylabel\u001b[0m\u001b[1;33m(\u001b[0m\u001b[1;34m'Simulated Amplitude (mV)'\u001b[0m\u001b[1;33m)\u001b[0m\u001b[1;33m\u001b[0m\u001b[0m\n\u001b[1;32m     11\u001b[0m \u001b[0mplt\u001b[0m\u001b[1;33m.\u001b[0m\u001b[0mshow\u001b[0m\u001b[1;33m(\u001b[0m\u001b[1;33m)\u001b[0m\u001b[1;33m\u001b[0m\u001b[0m\n\u001b[0;32m---> 12\u001b[0;31m \u001b[0mPostRPCA\u001b[0m \u001b[1;33m=\u001b[0m \u001b[0mrobustPCA\u001b[0m\u001b[1;33m(\u001b[0m\u001b[0meeg_sample_data\u001b[0m\u001b[1;33m,\u001b[0m \u001b[1;34m\"RobustPCA\"\u001b[0m\u001b[1;33m)\u001b[0m\u001b[1;33m\u001b[0m\u001b[0m\n\u001b[0m",
      "\u001b[0;32m<ipython-input-15-2b005cae7fd1>\u001b[0m in \u001b[0;36mrobustPCA\u001b[0;34m(eeg_data, method)\u001b[0m\n\u001b[1;32m     82\u001b[0m                 \u001b[1;31m##Defining Eigenvalues and Eigenvectors\u001b[0m\u001b[1;33m\u001b[0m\u001b[1;33m\u001b[0m\u001b[0m\n\u001b[1;32m     83\u001b[0m \u001b[1;33m\u001b[0m\u001b[0m\n\u001b[0;32m---> 84\u001b[0;31m                 \u001b[0meig_val_cov\u001b[0m\u001b[1;33m,\u001b[0m \u001b[0meig_vec_cov\u001b[0m \u001b[1;33m=\u001b[0m \u001b[0mnp\u001b[0m\u001b[1;33m.\u001b[0m\u001b[0mlinalg\u001b[0m\u001b[1;33m.\u001b[0m\u001b[0meig\u001b[0m\u001b[1;33m(\u001b[0m\u001b[0mcov_mat\u001b[0m\u001b[1;33m)\u001b[0m\u001b[1;33m\u001b[0m\u001b[0m\n\u001b[0m\u001b[1;32m     85\u001b[0m                 \u001b[0mnumTimesteps\u001b[0m \u001b[1;33m=\u001b[0m \u001b[0mlen\u001b[0m\u001b[1;33m(\u001b[0m\u001b[0meeg_data\u001b[0m\u001b[1;33m[\u001b[0m\u001b[1;33m:\u001b[0m\u001b[1;33m,\u001b[0m\u001b[1;36m0\u001b[0m\u001b[1;33m,\u001b[0m\u001b[0mt\u001b[0m\u001b[1;33m,\u001b[0m\u001b[0mp\u001b[0m\u001b[1;33m]\u001b[0m\u001b[1;33m)\u001b[0m\u001b[1;33m\u001b[0m\u001b[0m\n\u001b[1;32m     86\u001b[0m                 \u001b[0mnumElectrodes\u001b[0m \u001b[1;33m=\u001b[0m \u001b[0mlen\u001b[0m\u001b[1;33m(\u001b[0m\u001b[0meeg_data\u001b[0m\u001b[1;33m[\u001b[0m\u001b[1;36m0\u001b[0m\u001b[1;33m,\u001b[0m\u001b[1;33m:\u001b[0m\u001b[1;33m,\u001b[0m\u001b[0mt\u001b[0m\u001b[1;33m,\u001b[0m\u001b[0mp\u001b[0m\u001b[1;33m]\u001b[0m\u001b[1;33m)\u001b[0m\u001b[1;33m\u001b[0m\u001b[0m\n",
      "\u001b[0;32mC:\\Program Files\\Anaconda2\\lib\\site-packages\\numpy\\linalg\\linalg.pyc\u001b[0m in \u001b[0;36meig\u001b[0;34m(a)\u001b[0m\n\u001b[1;32m   1118\u001b[0m     \"\"\"\n\u001b[1;32m   1119\u001b[0m     \u001b[0ma\u001b[0m\u001b[1;33m,\u001b[0m \u001b[0mwrap\u001b[0m \u001b[1;33m=\u001b[0m \u001b[0m_makearray\u001b[0m\u001b[1;33m(\u001b[0m\u001b[0ma\u001b[0m\u001b[1;33m)\u001b[0m\u001b[1;33m\u001b[0m\u001b[0m\n\u001b[0;32m-> 1120\u001b[0;31m     \u001b[0m_assertRankAtLeast2\u001b[0m\u001b[1;33m(\u001b[0m\u001b[0ma\u001b[0m\u001b[1;33m)\u001b[0m\u001b[1;33m\u001b[0m\u001b[0m\n\u001b[0m\u001b[1;32m   1121\u001b[0m     \u001b[0m_assertNdSquareness\u001b[0m\u001b[1;33m(\u001b[0m\u001b[0ma\u001b[0m\u001b[1;33m)\u001b[0m\u001b[1;33m\u001b[0m\u001b[0m\n\u001b[1;32m   1122\u001b[0m     \u001b[0m_assertFinite\u001b[0m\u001b[1;33m(\u001b[0m\u001b[0ma\u001b[0m\u001b[1;33m)\u001b[0m\u001b[1;33m\u001b[0m\u001b[0m\n",
      "\u001b[0;32mC:\\Program Files\\Anaconda2\\lib\\site-packages\\numpy\\linalg\\linalg.pyc\u001b[0m in \u001b[0;36m_assertRankAtLeast2\u001b[0;34m(*arrays)\u001b[0m\n\u001b[1;32m    200\u001b[0m         \u001b[1;32mif\u001b[0m \u001b[0mlen\u001b[0m\u001b[1;33m(\u001b[0m\u001b[0ma\u001b[0m\u001b[1;33m.\u001b[0m\u001b[0mshape\u001b[0m\u001b[1;33m)\u001b[0m \u001b[1;33m<\u001b[0m \u001b[1;36m2\u001b[0m\u001b[1;33m:\u001b[0m\u001b[1;33m\u001b[0m\u001b[0m\n\u001b[1;32m    201\u001b[0m             raise LinAlgError('%d-dimensional array given. Array must be '\n\u001b[0;32m--> 202\u001b[0;31m                     'at least two-dimensional' % len(a.shape))\n\u001b[0m\u001b[1;32m    203\u001b[0m \u001b[1;33m\u001b[0m\u001b[0m\n\u001b[1;32m    204\u001b[0m \u001b[1;32mdef\u001b[0m \u001b[0m_assertSquareness\u001b[0m\u001b[1;33m(\u001b[0m\u001b[1;33m*\u001b[0m\u001b[0marrays\u001b[0m\u001b[1;33m)\u001b[0m\u001b[1;33m:\u001b[0m\u001b[1;33m\u001b[0m\u001b[0m\n",
      "\u001b[0;31mLinAlgError\u001b[0m: 0-dimensional array given. Array must be at least two-dimensional"
     ]
    }
   ],
   "source": [
    "eeg_sample_data = np.array([[[[1, 2, 6], [1, 2, 3], [4,6,16], [2,9,5]], [[1, 50, 40], [1, 2, 3], [4,7,18], [8,6,5]]], [[[1, 50, 40], [1, 2, 3], [1,1,1], [1,1,1]], [[1, 50, 40], [1, 2, 3], [1,1,1], [1,1,1]]]] , np.float32)\n",
    "eeg_sample_data = eeg_sample_data.T\n",
    "x = range(0,3)\n",
    "plt.plot(x, eeg_sample_data[:,0,0,0])\n",
    "plt.plot(x, eeg_sample_data[:,1,0,0])\n",
    "plt.plot(x, eeg_sample_data[:,2,0,0])\n",
    "plt.plot(x, eeg_sample_data[:,3,0,0])\n",
    "plt.title(\"Simulated Pre-RPCA Plot\")\n",
    "plt.xlabel('Time (ms)')\n",
    "plt.ylabel('Simulated Amplitude (mV)')\n",
    "plt.show()\n",
    "PostRPCA = robustPCA(eeg_sample_data, \"RobustPCA\")"
   ]
  },
  {
   "cell_type": "code",
   "execution_count": 18,
   "metadata": {
    "collapsed": false
   },
   "outputs": [
    {
     "data": {
      "image/png": "[encoded data removed]",
      "text/plain": [
       "<matplotlib.figure.Figure at 0xd180b00>"
      ]
     },
     "metadata": {},
     "output_type": "display_data"
    }
   ],
   "source": [
    "x = range(0,4)\n",
    "y = [4.657520560178286, 3.2973284076853844, 13.265723764948405, 10.4842079373323]\n",
    "plt.plot(x, y)\n",
    "plt.title(\"Simulated Post-RPCA Plot\")\n",
    "plt.xlabel('Time (ms)')\n",
    "plt.ylabel('Simulated Voltage (mV)')\n",
    "plt.show()"
   ]
  },
  {
   "cell_type": "code",
   "execution_count": 19,
   "metadata": {
    "collapsed": false
   },
   "outputs": [
    {
     "name": "stdout",
     "output_type": "stream",
     "text": [
      "Data will be downsampled by a factor of 100 due to the maximum amount of RAM Robust PCA can handle at once\n",
      "Noise reduction for patient 0\n",
      "Noise reduction for trial 0\n"
     ]
    },
    {
     "name": "stderr",
     "output_type": "stream",
     "text": [
      "C:\\Program Files\\Anaconda2\\lib\\site-packages\\ipykernel\\__main__.py:67: DeprecationWarning: elementwise == comparison failed; this will raise an error in the future.\n"
     ]
    },
    {
     "name": "stdout",
     "output_type": "stream",
     "text": [
      "The Number of Principal Components to Retain:\n",
      "1\n",
      "\n",
      "\n",
      "The Post-RPCA Matrix\n",
      "[[-- -- -- -- -- -- -- -- -- -- -- -- -- -- -- -- -- -- -- -- -- -- -- --\n",
      "  -- -- -- -- -- -- -- -- -- -- -- -- -- -- -- -- -- -- -- -- -- -- -- --\n",
      "  -- -- -- -- -- -- -- -- -- -- -- -- -- -- -- -- -- -- -- -- -- -- -- --\n",
      "  -- -- -- -- -- -- -- -- -- -- -- -- -- -- -- -- -- -- -- -- -- -- -- --\n",
      "  -- -- -- --]]\n"
     ]
    }
   ],
   "source": [
    "testdata = np.zeros((200000,110,1,1))\n",
    "Dance = robustPCA(testdata, \"RobustPCA\")"
   ]
  },
  {
   "cell_type": "code",
   "execution_count": null,
   "metadata": {
    "collapsed": false
   },
   "outputs": [],
   "source": []
  },
  {
   "cell_type": "code",
   "execution_count": null,
   "metadata": {
    "collapsed": true
   },
   "outputs": [],
   "source": []
  }
 ],
 "metadata": {
  "anaconda-cloud": {},
  "kernelspec": {
   "display_name": "Python [conda root]",
   "language": "python",
   "name": "conda-root-py"
  },
  "language_info": {
   "codemirror_mode": {
    "name": "ipython",
    "version": 2
   },
   "file_extension": ".py",
   "mimetype": "text/x-python",
   "name": "python",
   "nbconvert_exporter": "python",
   "pygments_lexer": "ipython2",
   "version": "2.7.12"
  }
 },
 "nbformat": 4,
 "nbformat_minor": 1
}
