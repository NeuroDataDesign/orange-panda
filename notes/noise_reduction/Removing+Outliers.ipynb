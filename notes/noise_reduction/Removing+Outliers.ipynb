{
 "cells": [
  {
   "cell_type": "markdown",
   "metadata": {},
   "source": [
    "--------\n",
    "## Step 1: Pseudocode/Algorithm\n",
    "[Latex Source](https://www.overleaf.com/6663695rcdbbh#/22616031/)\n",
    "\n",
    "### Summary of Pseudocode of using the Meidan to Remove Outliers:\n",
    "\n",
    "i. INPUT - eeg_data array. 2D in simulation and 4D in the actual data, but the 2 extra dimensions are for the convenience of keeping track of trial and patient number and can be easily disregarded.   \n",
    "- Note that the dimensions must be in the order of eeg_data[timesteps, electrodes] and the additional two dimensions are [trial, patient number] if needed.  \n",
    "ii. OUTPUT - Produces a 1-D array containing the eigenvalues and the eigenvectors obtained by having a robust covariance matrix.  \n",
    "iii. Function Name - \"FindVar\" - stands for find variance / eigenvalues etc\n",
    "\n",
    "#### iv. Step by Step Instructions\n",
    "1. The code first removes outliers on the timesteps (or the voltage values) using the method remove_outliers, which turns any data that are 3 Median Absolute Deviation away from the Median into \"NaN\".  \n",
    "\n",
    "- Median Absolute Deviation is defined as the absolute value of distance between the data value and the median.  \n",
    "2. The 'NaN' in the data is masked using the np.ma.array() function. Then a robust covariance matrix is generated using the np.ma.cov() function. Masking the 'NaN's allow a covariance matrix to be generated even considering the absence of some data.  \n",
    "3. The eigenvalues and eigenvectors are calculated using the LinAlg function.  "
   ]
  },
  {
   "cell_type": "markdown",
   "metadata": {},
   "source": [
    "--------\n",
    "## Step 2: Simulations & Details of Their Parameters\n",
    "\n",
    "##### Success\n",
    "- Some data is generated and outliers with huge distances from the median are added. The function should be able to remove all data that are more than three median absolute deviant away from the median.\n",
    "\n",
    "##### Failure\n",
    "- For data such as a normal distribution, the mean is preferred. The median will not be as great of an estimator of the data."
   ]
  },
  {
   "cell_type": "markdown",
   "metadata": {},
   "source": [
    "-------\n",
    "## Step 3: Choose Visualization\n",
    "- We will use a scatter plot in which the EEG data are shown- the pre-processed graph and the post-removing outlier graph will be shown on the same plot. \n",
    "\n",
    "- We will also print the pre and post-removing outlier covariance matrix to compare the two and see how they're different.\n",
    "\n",
    "- We will also graph the eigenvectors associated with this covariance and see the difference."
   ]
  },
  {
   "cell_type": "markdown",
   "metadata": {},
   "source": [
    "-------\n",
    "## Step 4: Specify Metrics for Evaluating Performance\n",
    "We will use the *truth* function, which returns 1 if the post-processed graph removes all the noises and returns the signal and 0 if they do not. "
   ]
  },
  {
   "cell_type": "markdown",
   "metadata": {},
   "source": [
    "------\n",
    "## Step 5: Write Code Generating Simulated Data"
   ]
  },
  {
   "cell_type": "markdown",
   "metadata": {},
   "source": [
    "### Success (EEG Data)"
   ]
  },
  {
   "cell_type": "code",
   "execution_count": 58,
   "metadata": {
    "collapsed": false
   },
   "outputs": [
    {
     "name": "stdout",
     "output_type": "stream",
     "text": [
      "(8L, 2L)\n"
     ]
    }
   ],
   "source": [
    "import numpy as np\n",
    "import h5py\n",
    "import pandas as pd \n",
    "import matplotlib.pyplot as plt\n",
    "\n",
    "## We will generate the original array\n",
    "x = np.array([[0,1] , [1,2] , [0.5,0.5], [0.25,0], [0.75,1]], np.float32)\n",
    "## Generate Outliers\n",
    "y = np.array([[4,4], [-5,5], [-6,6]])\n",
    "## Combine them\n",
    "z = np.vstack((x,y))\n",
    "print z.shape"
   ]
  },
  {
   "cell_type": "markdown",
   "metadata": {},
   "source": [
    "### Failure (Random Matrix)"
   ]
  },
  {
   "cell_type": "code",
   "execution_count": 59,
   "metadata": {
    "collapsed": false
   },
   "outputs": [
    {
     "name": "stdout",
     "output_type": "stream",
     "text": [
      "(8L, 2L)\n"
     ]
    }
   ],
   "source": [
    "mu_vec2 = np.array([1,1])\n",
    "cov_mat2 = np.array([[1,0],[0,1]])\n",
    "norms = np.random.multivariate_normal(mu_vec2, cov_mat2, 8)\n",
    "print norms.shape"
   ]
  },
  {
   "cell_type": "markdown",
   "metadata": {},
   "source": [
    "----------\n",
    "## Step 7: Plot Simulated Data"
   ]
  },
  {
   "cell_type": "code",
   "execution_count": 42,
   "metadata": {
    "collapsed": false
   },
   "outputs": [
    {
     "data": {
      "image/png": "[encoded data removed]",
      "text/plain": [
       "<matplotlib.figure.Figure at 0x99591d0>"
      ]
     },
     "metadata": {},
     "output_type": "display_data"
    }
   ],
   "source": [
    "import matplotlib.pyplot as plt\n",
    "\n",
    "from mpl_toolkits.mplot3d import Axes3D\n",
    "from mpl_toolkits.mplot3d import proj3d\n",
    "\n",
    "plt.plot(x[:,0], x[:,1], '^', markersize=8, color='blue', alpha=0.5, label='class1 without outliers')\n",
    "plt.plot(z[:,0], z[:,1], 'o', markersize=8, color='green', alpha=0.5, label='class1 without outliers')\n",
    "plt.xlabel('x_values')\n",
    "plt.ylabel('y_values')\n",
    "plt.xlim([-7,7])\n",
    "plt.ylim([-1,7])\n",
    "plt.legend()\n",
    "plt.title('The Simulated Data with and without outliers')\n",
    "plt.show()"
   ]
  },
  {
   "cell_type": "code",
   "execution_count": 61,
   "metadata": {
    "collapsed": false
   },
   "outputs": [
    {
     "data": {
      "image/png": "[encoded data removed]",
      "text/plain": [
       "<matplotlib.figure.Figure at 0xbbcb080>"
      ]
     },
     "metadata": {},
     "output_type": "display_data"
    }
   ],
   "source": [
    "plt.plot(norms[:,0], norms[:,1],  '^', markersize=8, color='blue', alpha=0.5)\n",
    "plt.xlabel('x_values')\n",
    "plt.ylabel('y_values')\n",
    "plt.title('Normally Distributed Data')\n",
    "plt.show()"
   ]
  },
  {
   "cell_type": "markdown",
   "metadata": {},
   "source": [
    "Note: The Purple curve is shown as the outlier or the \"noise\". "
   ]
  },
  {
   "cell_type": "markdown",
   "metadata": {},
   "source": [
    "---------\n",
    "## Step 8: Write Algorithm Code"
   ]
  },
  {
   "cell_type": "code",
   "execution_count": 35,
   "metadata": {
    "collapsed": false
   },
   "outputs": [],
   "source": [
    "import sklearn\n",
    "\n",
    "from sklearn import decomposition\n",
    "from sklearn.decomposition import PCA\n",
    "from sklearn import datasets\n",
    "from scipy import stats\n",
    "from sklearn.preprocessing import scale\n",
    "import statsmodels\n",
    "from statsmodels import robust"
   ]
  },
  {
   "cell_type": "code",
   "execution_count": 49,
   "metadata": {
    "collapsed": false
   },
   "outputs": [
    {
     "name": "stdout",
     "output_type": "stream",
     "text": [
      "[[ 0.    1.  ]\n",
      " [ 1.    2.  ]\n",
      " [ 0.5   0.5 ]\n",
      " [ 0.25  0.  ]\n",
      " [ 0.75  1.  ]]\n",
      "[[ 0.    1.  ]\n",
      " [ 1.    2.  ]\n",
      " [ 0.5   0.5 ]\n",
      " [ 0.25  0.  ]\n",
      " [ 0.75  1.  ]\n",
      " [ 4.    4.  ]\n",
      " [-5.    5.  ]\n",
      " [-6.    6.  ]]\n"
     ]
    }
   ],
   "source": [
    "from matplotlib import pyplot as mp\n",
    "import numpy as np\n",
    "import math\n",
    "\n",
    "def remove_outliers(data):\n",
    "    filtered = []\n",
    "    m = 3\n",
    "    u = np.median(data)\n",
    "    s = robust.mad(data, c = 1, axis = 0 )\n",
    "    print (\"The Median of the Data and the Median Absolute Deviant, Respectively\")\n",
    "    for e in range(data.shape[0]):\n",
    "        if u-3*s < data[e] < u+3*s:\n",
    "            filtered.append(data[e])\n",
    "        else:\n",
    "            filtered.append(np.nan)\n",
    "    return filtered\n",
    "\n",
    "print(x)\n",
    "print(z)"
   ]
  },
  {
   "cell_type": "code",
   "execution_count": 89,
   "metadata": {
    "collapsed": false,
    "scrolled": true
   },
   "outputs": [],
   "source": [
    "        def robustPCA(eeg_data):\n",
    "                new_data = []\n",
    "                for c in range(eeg_data.shape[1]):\n",
    "                    if new_data == []:\n",
    "                        temp = remove_outliers(eeg_data[:,c])\n",
    "                        new_data = temp\n",
    "                    else:\n",
    "                        temp = remove_outliers(eeg_data[:,c])\n",
    "                        new_data = np.vstack((new_data, temp))\n",
    "                print (\"Matrix Created After Removing the Median Absolute Deviant\")\n",
    "                print (new_data)\n",
    "                print \"\\n\"\n",
    "                maskedarr = np.ma.array(new_data, mask=np.isnan(new_data))\n",
    "                print maskedarr\n",
    "                cov_mat = np.ma.cov(maskedarr,rowvar=False,allow_masked=True)\n",
    "                print \"Robust Covariance Matrix:\"\n",
    "                print cov_mat\n",
    "                print \"\\n\"\n",
    "\n",
    "                ##Defining Eigenvalues and Eigenvectors\n",
    "\n",
    "                eig_val_cov, eig_vec_cov = np.linalg.eig(cov_mat)\n",
    "                numTimesteps = len(eeg_data[:,0])\n",
    "                numElectrodes = len(eeg_data[0,:])\n",
    "                for i in range(len(eig_val_cov)):\n",
    "                    eigvec_cov = eig_vec_cov[:,i].reshape(1,numTimesteps).T\n",
    "                    print('Eigenvector {}: \\n{}'.format(i+1, eigvec_cov))\n",
    "                    print('Eigenvalue {} from covariance matrix: {}'.format(i+1, eig_val_cov[i]))\n",
    "                    print('\\n')\n",
    "                eig_pairs = [(np.abs(eig_val_cov[i]), eig_vec_cov[:,i]) for i in range(len(eig_val_cov))]\n",
    "                eig_pairs.sort(key=lambda x: x[0], reverse=True)\n",
    "                matrix_w = eig_pairs[0][1].reshape(numTimesteps,1)\n",
    "                for x in range(0, 1):\n",
    "                    matrix_w = np.hstack((matrix_w, eig_pairs[x][1].reshape(numTimesteps,1)))\n",
    "                    #print matrix_w\n",
    "                eeg_data = matrix_w.T.dot(eeg_data)\n",
    "                print (\"The Post-RPCA Matrix\")\n",
    "                print eeg_data\n",
    "                return eig_val_cov"
   ]
  },
  {
   "cell_type": "markdown",
   "metadata": {},
   "source": [
    "## A Summary of the Results Printed for the Success Case"
   ]
  },
  {
   "cell_type": "code",
   "execution_count": 90,
   "metadata": {
    "collapsed": false
   },
   "outputs": [
    {
     "name": "stdout",
     "output_type": "stream",
     "text": [
      "The Median of the Data and the Median Absolute Deviant, Respectively\n",
      "The Median of the Data and the Median Absolute Deviant, Respectively\n",
      "Matrix Created After Removing the Median Absolute Deviant\n",
      "[[ 0.    1.    0.5   0.25  0.75   nan   nan   nan]\n",
      " [ 1.    2.    0.5   0.    1.    4.    5.     nan]]\n",
      "\n",
      "\n",
      "[[0.0 1.0 0.5 0.25 0.75 -- -- --]\n",
      " [1.0 2.0 0.5 0.0 1.0 4.0 5.0 --]]\n",
      "Robust Covariance Matrix:\n",
      "[[0.5 0.5 0.0 -0.125 0.125 -- -- --]\n",
      " [0.5 0.5 0.0 -0.125 0.125 -- -- --]\n",
      " [0.0 0.0 0.0 0.0 0.0 -- -- --]\n",
      " [-0.125 -0.125 0.0 0.03125 -0.03125 -- -- --]\n",
      " [0.125 0.125 0.0 -0.03125 0.03125 -- -- --]\n",
      " [-- -- -- -- -- -- -- --]\n",
      " [-- -- -- -- -- -- -- --]\n",
      " [-- -- -- -- -- -- -- --]]\n",
      "\n",
      "\n",
      "Eigenvector 1: \n",
      "[[-0.7276068751089989]\n",
      " [0.6467616667635546]\n",
      " [0.0]\n",
      " [-0.16169041669088868]\n",
      " [0.16169041669088868]\n",
      " [--]\n",
      " [--]\n",
      " [--]]\n",
      "Eigenvalue 1 from covariance matrix: -1.11022302463e-16\n",
      "\n",
      "\n",
      "Eigenvector 2: \n",
      "[[-0.6859943405700355]\n",
      " [-0.6859943405700352]\n",
      " [0.0]\n",
      " [0.17149858514250885]\n",
      " [-0.17149858514250885]\n",
      " [--]\n",
      " [--]\n",
      " [--]]\n",
      "Eigenvalue 2 from covariance matrix: 1.0625\n",
      "\n",
      "\n",
      "Eigenvector 3: \n",
      "[[3.73559773555443e-18]\n",
      " [6.064879446385831e-17]\n",
      " [0.0]\n",
      " [0.7071067811865476]\n",
      " [0.7071067811865474]\n",
      " [--]\n",
      " [--]\n",
      " [--]]\n",
      "Eigenvalue 3 from covariance matrix: 0.0\n",
      "\n",
      "\n",
      "Eigenvector 4: \n",
      "[[7.41760942166728e-18]\n",
      " [-0.3333333333333333]\n",
      " [0.0]\n",
      " [-0.6666666666666662]\n",
      " [0.6666666666666671]\n",
      " [--]\n",
      " [--]\n",
      " [--]]\n",
      "Eigenvalue 4 from covariance matrix: 1.48941818735e-34\n",
      "\n",
      "\n",
      "Eigenvector 5: \n",
      "[[0.0]\n",
      " [0.0]\n",
      " [1.0]\n",
      " [0.0]\n",
      " [0.0]\n",
      " [--]\n",
      " [--]\n",
      " [--]]\n",
      "Eigenvalue 5 from covariance matrix: 0.0\n",
      "\n",
      "\n",
      "Eigenvector 6: \n",
      "[[--]\n",
      " [--]\n",
      " [--]\n",
      " [--]\n",
      " [--]\n",
      " [--]\n",
      " [--]\n",
      " [--]]\n",
      "Eigenvalue 6 from covariance matrix: 0.0\n",
      "\n",
      "\n",
      "Eigenvector 7: \n",
      "[[--]\n",
      " [--]\n",
      " [--]\n",
      " [--]\n",
      " [--]\n",
      " [--]\n",
      " [--]\n",
      " [--]]\n",
      "Eigenvalue 7 from covariance matrix: 0.0\n",
      "\n",
      "\n",
      "Eigenvector 8: \n",
      "[[--]\n",
      " [--]\n",
      " [--]\n",
      " [--]\n",
      " [--]\n",
      " [--]\n",
      " [--]\n",
      " [--]]\n",
      "Eigenvalue 8 from covariance matrix: 0.0\n",
      "\n",
      "\n",
      "The Post-RPCA Matrix\n",
      "[[-0.7717436331412896 -2.2294816068526147]\n",
      " [-0.7717436331412896 -2.2294816068526147]]\n",
      "The Median of the Data and the Median Absolute Deviant, Respectively\n",
      "The Median of the Data and the Median Absolute Deviant, Respectively\n",
      "Matrix Created After Removing the Median Absolute Deviant\n",
      "[[ 0.    1.    0.5   0.25  0.75]\n",
      " [ 1.    2.    0.5   0.    1.  ]]\n",
      "\n",
      "\n",
      "[[0.0 1.0 0.5 0.25 0.75]\n",
      " [1.0 2.0 0.5 0.0 1.0]]\n",
      "Robust Covariance Matrix:\n",
      "[[0.5 0.5 0.0 -0.125 0.125]\n",
      " [0.5 0.5 0.0 -0.125 0.125]\n",
      " [0.0 0.0 0.0 0.0 0.0]\n",
      " [-0.125 -0.125 0.0 0.03125 -0.03125]\n",
      " [0.125 0.125 0.0 -0.03125 0.03125]]\n",
      "\n",
      "\n",
      "Eigenvector 1: \n",
      "[[-0.7276068751089989]\n",
      " [0.6467616667635546]\n",
      " [0.0]\n",
      " [-0.16169041669088868]\n",
      " [0.16169041669088868]]\n",
      "Eigenvalue 1 from covariance matrix: -1.11022302463e-16\n",
      "\n",
      "\n",
      "Eigenvector 2: \n",
      "[[-0.6859943405700355]\n",
      " [-0.6859943405700352]\n",
      " [0.0]\n",
      " [0.17149858514250885]\n",
      " [-0.17149858514250885]]\n",
      "Eigenvalue 2 from covariance matrix: 1.0625\n",
      "\n",
      "\n",
      "Eigenvector 3: \n",
      "[[3.73559773555443e-18]\n",
      " [6.064879446385831e-17]\n",
      " [0.0]\n",
      " [0.7071067811865476]\n",
      " [0.7071067811865474]]\n",
      "Eigenvalue 3 from covariance matrix: 0.0\n",
      "\n",
      "\n",
      "Eigenvector 4: \n",
      "[[7.41760942166728e-18]\n",
      " [-0.3333333333333333]\n",
      " [0.0]\n",
      " [-0.6666666666666662]\n",
      " [0.6666666666666671]]\n",
      "Eigenvalue 4 from covariance matrix: 1.48941818735e-34\n",
      "\n",
      "\n",
      "Eigenvector 5: \n",
      "[[0.0]\n",
      " [0.0]\n",
      " [1.0]\n",
      " [0.0]\n",
      " [0.0]]\n",
      "Eigenvalue 5 from covariance matrix: 0.0\n",
      "\n",
      "\n",
      "The Post-RPCA Matrix\n",
      "[[-0.7717436331412896 -2.2294816068526147]\n",
      " [-0.7717436331412896 -2.2294816068526147]]\n"
     ]
    }
   ],
   "source": [
    "EigenvaluesZ = robustPCA(z)\n",
    "EigenvaluesX = robustPCA(x)"
   ]
  },
  {
   "cell_type": "markdown",
   "metadata": {},
   "source": [
    "## A Summary of the Results Printed for the Failure Case"
   ]
  },
  {
   "cell_type": "code",
   "execution_count": 110,
   "metadata": {
    "collapsed": false
   },
   "outputs": [
    {
     "name": "stdout",
     "output_type": "stream",
     "text": [
      "(8L, 2L)\n",
      "The Median of the Data and the Median Absolute Deviant, Respectively\n",
      "The Median of the Data and the Median Absolute Deviant, Respectively\n",
      "Matrix Created After Removing the Median Absolute Deviant\n",
      "[[ 1.61508976  0.79322543  0.37388628  1.94739821  1.32074557         nan\n",
      "          nan  1.12857669]\n",
      " [ 1.00915685  1.46773922  1.25935543  0.26923486  0.63595151  1.83890331\n",
      "          nan  1.2542343 ]]\n",
      "\n",
      "\n",
      "[[1.6150897590719038 0.7932254310862042 0.37388628042093874\n",
      "  1.9473982059882697 1.3207455729174922 -- -- 1.128576687075764]\n",
      " [1.0091568483314843 1.4677392245746952 1.2593554252775796\n",
      "  0.26923485750828113 0.6359515146980249 1.8389033066086486 --\n",
      "  1.2542343041760844]]\n",
      "Robust Covariance Matrix:\n",
      "[[0.18357734615917856 -0.20435505311152175 -0.26826744815690723\n",
      "  0.5084272012211841 0.20746962847733302 -- -- -0.038070042843151096]\n",
      " [-0.20435505311152175 0.2274844288031173 0.29863057595713144\n",
      "  -0.5659721631382927 -0.23095151898399569 -- -- 0.04237889799553066]\n",
      " [-0.26826744815690723 0.29863057595713144 0.39202780324657543\n",
      "  -0.7429809325541662 -0.3031820045672502 -- -- 0.055632971379271916]\n",
      " [0.5084272012211841 -0.5659721631382927 -0.7429809325541662\n",
      "  1.408116112090784 0.5745981448803907 -- -- -0.1054370037375449]\n",
      " [0.20746962847733302 -0.23095151898399569 -0.3031820045672502\n",
      "  0.5745981448803907 0.23447145108634357 -- -- -0.04302479478015814]\n",
      " [-- -- -- -- -- -- -- --]\n",
      " [-- -- -- -- -- -- -- --]\n",
      " [-0.038070042843151096 0.04237889799553066 0.055632971379271916\n",
      "  -0.1054370037375449 -0.04302479478015814 -- -- 0.007894918367665356]]\n",
      "\n",
      "\n",
      "Eigenvector 1: \n",
      "[[(-0.9618625462772179+0j)]\n",
      " [(-0.08659115836407115+0j)]\n",
      " [(-0.11367269237332257+0j)]\n",
      " [(0.2154353397540863+0j)]\n",
      " [(0.08791089420926516+0j)]\n",
      " [--]\n",
      " [--]\n",
      " [(-0.016131380450667258+0j)]]\n",
      "Eigenvalue 1 from covariance matrix: 0j\n",
      "\n",
      "\n",
      "Eigenvector 2: \n",
      "[[(-0.27353325587413874+0j)]\n",
      " [(0.3044923799228387+0j)]\n",
      " [(0.39972289650476933+0j)]\n",
      " [(-0.757564866442825+0j)]\n",
      " [(-0.3091331482872372+0j)]\n",
      " [--]\n",
      " [--]\n",
      " [(0.056724988066477806+0j)]]\n",
      "Eigenvalue 2 from covariance matrix: (2.45357205975+0j)\n",
      "\n",
      "\n",
      "Eigenvector 3: \n",
      "[[(-0.41302146098563103+0j)]\n",
      " [(0.3276297400491839+0j)]\n",
      " [(0.6156861847291497+0j)]\n",
      " [(0.47252514888923247+0j)]\n",
      " [(0.3390098684020114+0j)]\n",
      " [--]\n",
      " [--]\n",
      " [(0.06924478989441626+0j)]]\n",
      "Eigenvalue 3 from covariance matrix: (1.10442321407e-16+0j)\n",
      "\n",
      "\n",
      "Eigenvector 4: \n",
      "[[(-0.44238748164796154-0.2001399299132808j)]\n",
      " [(0.09800294968175279+0.16378832295750936j)]\n",
      " [(0.023188509213983164-0.27367064195634283j)]\n",
      " [(-0.10474087227350824-0.00316297903161178j)]\n",
      " [(0.7932864054124129+0j)]\n",
      " [--]\n",
      " [--]\n",
      " [(0.1016360092846425+0.041939841048047516j)]]\n",
      "Eigenvalue 4 from covariance matrix: (1.85195410319e-17+2.2606038476e-17j)\n",
      "\n",
      "\n",
      "Eigenvector 5: \n",
      "[[(-0.44238748164796154+0.2001399299132808j)]\n",
      " [(0.09800294968175279-0.16378832295750936j)]\n",
      " [(0.023188509213983164+0.27367064195634283j)]\n",
      " [(-0.10474087227350824+0.00316297903161178j)]\n",
      " [(0.7932864054124129-0j)]\n",
      " [--]\n",
      " [--]\n",
      " [(0.1016360092846425-0.041939841048047516j)]]\n",
      "Eigenvalue 5 from covariance matrix: (1.85195410319e-17-2.2606038476e-17j)\n",
      "\n",
      "\n",
      "Eigenvector 6: \n",
      "[[--]\n",
      " [--]\n",
      " [--]\n",
      " [--]\n",
      " [--]\n",
      " [--]\n",
      " [--]\n",
      " [--]]\n",
      "Eigenvalue 6 from covariance matrix: (4.16937985682e-19+0j)\n",
      "\n",
      "\n",
      "Eigenvector 7: \n",
      "[[--]\n",
      " [--]\n",
      " [--]\n",
      " [--]\n",
      " [--]\n",
      " [--]\n",
      " [--]\n",
      " [--]]\n",
      "Eigenvalue 7 from covariance matrix: 0j\n",
      "\n",
      "\n",
      "Eigenvector 8: \n",
      "[[0j]\n",
      " [0j]\n",
      " [0j]\n",
      " [0j]\n",
      " [0j]\n",
      " [--]\n",
      " [--]\n",
      " [0j]]\n",
      "Eigenvalue 8 from covariance matrix: 0j\n",
      "\n",
      "\n",
      "The Post-RPCA Matrix\n",
      "[[(-1.870346953794344+0j) (0.34486051267630896+0j)]\n",
      " [(-1.870346953794344+0j) (0.34486051267630896+0j)]]\n"
     ]
    }
   ],
   "source": [
    "cov_mat_norms = np.cov\n",
    "EigenvaluesNorm = robustPCA(norms)"
   ]
  },
  {
   "cell_type": "markdown",
   "metadata": {},
   "source": [
    "------\n",
    "## Step 9: Write Qualitative Evaluation Code, Run Qualitative Evaluation"
   ]
  },
  {
   "cell_type": "markdown",
   "metadata": {},
   "source": [
    "### Success"
   ]
  },
  {
   "cell_type": "code",
   "execution_count": 107,
   "metadata": {
    "collapsed": false
   },
   "outputs": [
    {
     "data": {
      "image/png": "[encoded data removed]",
      "text/plain": [
       "<matplotlib.figure.Figure at 0xc127f98>"
      ]
     },
     "metadata": {},
     "output_type": "display_data"
    }
   ],
   "source": [
    "#Cumulative Variance explains\n",
    "RangeOfEigenvaluesX = range(1, len(EigenvaluesX) +1)\n",
    "RangeOfEigenvaluesZ = range(1, len(EigenvaluesZ)+1)\n",
    "plt.plot(RangeOfEigenvaluesX, EigenvaluesX, '^', markersize=8, color='blue', alpha=0.5, label='Eigenvalues Pre-Removal')\n",
    "plt.plot(RangeOfEigenvaluesZ, EigenvaluesZ, 'o', markersize=8, color='green', alpha=0.5, label='Eigenvalues Post-Removal')\n",
    "plt.xlabel('The order of the eigenvalues')\n",
    "plt.ylabel('The Eigenvalue')\n",
    "plt.legend()\n",
    "plt.title('Comparison of the Eigenvalues')\n",
    "plt.show()"
   ]
  },
  {
   "cell_type": "markdown",
   "metadata": {},
   "source": [
    "### Failure"
   ]
  },
  {
   "cell_type": "code",
   "execution_count": 108,
   "metadata": {
    "collapsed": false
   },
   "outputs": [
    {
     "data": {
      "image/png": "[encoded data removed]",
      "text/plain": [
       "<matplotlib.figure.Figure at 0xc12b5c0>"
      ]
     },
     "metadata": {},
     "output_type": "display_data"
    }
   ],
   "source": [
    "RangeOfEigenvaluesNorm = range(1, len(EigenvaluesNorm) +1)\n",
    "RangeOfEigenvaluesZ = range(1, len(EigenvaluesZ)+1)\n",
    "plt.plot(RangeOfEigenvaluesNorm, EigenvaluesNorm, '^', markersize=8, color='blue', alpha=0.5, label='Eigenvalues Pre-Removal')\n",
    "plt.xlabel('The order of the eigenvalues')\n",
    "plt.ylabel('The Eigenvalue')\n",
    "plt.legend()\n",
    "plt.title('Comparison of the Eigenvalues')\n",
    "plt.show()"
   ]
  },
  {
   "cell_type": "markdown",
   "metadata": {},
   "source": [
    "## Step 12: Quantitative Evaluation"
   ]
  },
  {
   "cell_type": "code",
   "execution_count": 73,
   "metadata": {
    "collapsed": false
   },
   "outputs": [
    {
     "name": "stdout",
     "output_type": "stream",
     "text": [
      "The Median of the Data and the Median Absolute Deviant, Respectively\n",
      "The Median of the Data and the Median Absolute Deviant, Respectively\n",
      "Matrix Created After Removing the Median Absolute Deviant\n",
      "[[ 0.    1.    0.5   0.25  0.75   nan   nan   nan]\n",
      " [ 1.    2.    0.5   0.    1.    4.    5.     nan]]\n",
      "\n",
      "\n",
      "[[0.0 1.0 0.5 0.25 0.75 -- -- --]\n",
      " [1.0 2.0 0.5 0.0 1.0 4.0 5.0 --]]\n",
      "Robust Covariance Matrix:\n",
      "[[0.5 0.5 0.0 -0.125 0.125 -- -- --]\n",
      " [0.5 0.5 0.0 -0.125 0.125 -- -- --]\n",
      " [0.0 0.0 0.0 0.0 0.0 -- -- --]\n",
      " [-0.125 -0.125 0.0 0.03125 -0.03125 -- -- --]\n",
      " [0.125 0.125 0.0 -0.03125 0.03125 -- -- --]\n",
      " [-- -- -- -- -- -- -- --]\n",
      " [-- -- -- -- -- -- -- --]\n",
      " [-- -- -- -- -- -- -- --]]\n",
      "\n",
      "\n",
      "Eigenvector 1: \n",
      "[[-0.7276068751089989]\n",
      " [0.6467616667635546]\n",
      " [0.0]\n",
      " [-0.16169041669088868]\n",
      " [0.16169041669088868]\n",
      " [--]\n",
      " [--]\n",
      " [--]]\n",
      "Eigenvalue 1 from covariance matrix: -1.11022302463e-16\n",
      "\n",
      "\n",
      "Eigenvector 2: \n",
      "[[-0.6859943405700355]\n",
      " [-0.6859943405700352]\n",
      " [0.0]\n",
      " [0.17149858514250885]\n",
      " [-0.17149858514250885]\n",
      " [--]\n",
      " [--]\n",
      " [--]]\n",
      "Eigenvalue 2 from covariance matrix: 1.0625\n",
      "\n",
      "\n",
      "Eigenvector 3: \n",
      "[[3.73559773555443e-18]\n",
      " [6.064879446385831e-17]\n",
      " [0.0]\n",
      " [0.7071067811865476]\n",
      " [0.7071067811865474]\n",
      " [--]\n",
      " [--]\n",
      " [--]]\n",
      "Eigenvalue 3 from covariance matrix: 0.0\n",
      "\n",
      "\n",
      "Eigenvector 4: \n",
      "[[7.41760942166728e-18]\n",
      " [-0.3333333333333333]\n",
      " [0.0]\n",
      " [-0.6666666666666662]\n",
      " [0.6666666666666671]\n",
      " [--]\n",
      " [--]\n",
      " [--]]\n",
      "Eigenvalue 4 from covariance matrix: 1.48941818735e-34\n",
      "\n",
      "\n",
      "Eigenvector 5: \n",
      "[[0.0]\n",
      " [0.0]\n",
      " [1.0]\n",
      " [0.0]\n",
      " [0.0]\n",
      " [--]\n",
      " [--]\n",
      " [--]]\n",
      "Eigenvalue 5 from covariance matrix: 0.0\n",
      "\n",
      "\n",
      "Eigenvector 6: \n",
      "[[--]\n",
      " [--]\n",
      " [--]\n",
      " [--]\n",
      " [--]\n",
      " [--]\n",
      " [--]\n",
      " [--]]\n",
      "Eigenvalue 6 from covariance matrix: 0.0\n",
      "\n",
      "\n",
      "Eigenvector 7: \n",
      "[[--]\n",
      " [--]\n",
      " [--]\n",
      " [--]\n",
      " [--]\n",
      " [--]\n",
      " [--]\n",
      " [--]]\n",
      "Eigenvalue 7 from covariance matrix: 0.0\n",
      "\n",
      "\n",
      "Eigenvector 8: \n",
      "[[--]\n",
      " [--]\n",
      " [--]\n",
      " [--]\n",
      " [--]\n",
      " [--]\n",
      " [--]\n",
      " [--]]\n",
      "Eigenvalue 8 from covariance matrix: 0.0\n",
      "\n",
      "\n",
      "[[-0.68599434 -0.68599434]\n",
      " [-0.68599434 -0.68599434]\n",
      " [ 0.          0.        ]\n",
      " [ 0.17149859  0.17149859]\n",
      " [-0.17149859 -0.17149859]\n",
      " [ 0.          0.        ]\n",
      " [ 0.          0.        ]\n",
      " [ 0.          0.        ]]\n",
      "[[-0.68599434 -0.68599434 -0.72760688]\n",
      " [-0.68599434 -0.68599434  0.64676167]\n",
      " [ 0.          0.          0.        ]\n",
      " [ 0.17149859  0.17149859 -0.16169042]\n",
      " [-0.17149859 -0.17149859  0.16169042]\n",
      " [ 0.          0.          0.        ]\n",
      " [ 0.          0.          0.        ]\n",
      " [ 0.          0.          0.        ]]\n",
      "The Post-RPCA Matrix\n",
      "[[-0.7717436331412896 -2.2294816068526147]\n",
      " [-0.7717436331412896 -2.2294816068526147]\n",
      " [0.727606875108999 0.727606875108999]]\n",
      "[ -1.11022302e-16   1.06250000e+00   0.00000000e+00   1.48941819e-34\n",
      "   0.00000000e+00   0.00000000e+00   0.00000000e+00   0.00000000e+00]\n",
      "The Median of the Data and the Median Absolute Deviant, Respectively\n",
      "The Median of the Data and the Median Absolute Deviant, Respectively\n",
      "Matrix Created After Removing the Median Absolute Deviant\n",
      "[[ 0.    1.    0.5   0.25  0.75]\n",
      " [ 1.    2.    0.5   0.    1.  ]]\n",
      "\n",
      "\n",
      "[[0.0 1.0 0.5 0.25 0.75]\n",
      " [1.0 2.0 0.5 0.0 1.0]]\n",
      "Robust Covariance Matrix:\n",
      "[[0.5 0.5 0.0 -0.125 0.125]\n",
      " [0.5 0.5 0.0 -0.125 0.125]\n",
      " [0.0 0.0 0.0 0.0 0.0]\n",
      " [-0.125 -0.125 0.0 0.03125 -0.03125]\n",
      " [0.125 0.125 0.0 -0.03125 0.03125]]\n",
      "\n",
      "\n",
      "Eigenvector 1: \n",
      "[[-0.7276068751089989]\n",
      " [0.6467616667635546]\n",
      " [0.0]\n",
      " [-0.16169041669088868]\n",
      " [0.16169041669088868]]\n",
      "Eigenvalue 1 from covariance matrix: -1.11022302463e-16\n",
      "\n",
      "\n",
      "Eigenvector 2: \n",
      "[[-0.6859943405700355]\n",
      " [-0.6859943405700352]\n",
      " [0.0]\n",
      " [0.17149858514250885]\n",
      " [-0.17149858514250885]]\n",
      "Eigenvalue 2 from covariance matrix: 1.0625\n",
      "\n",
      "\n",
      "Eigenvector 3: \n",
      "[[3.73559773555443e-18]\n",
      " [6.064879446385831e-17]\n",
      " [0.0]\n",
      " [0.7071067811865476]\n",
      " [0.7071067811865474]]\n",
      "Eigenvalue 3 from covariance matrix: 0.0\n",
      "\n",
      "\n",
      "Eigenvector 4: \n",
      "[[7.41760942166728e-18]\n",
      " [-0.3333333333333333]\n",
      " [0.0]\n",
      " [-0.6666666666666662]\n",
      " [0.6666666666666671]]\n",
      "Eigenvalue 4 from covariance matrix: 1.48941818735e-34\n",
      "\n",
      "\n",
      "Eigenvector 5: \n",
      "[[0.0]\n",
      " [0.0]\n",
      " [1.0]\n",
      " [0.0]\n",
      " [0.0]]\n",
      "Eigenvalue 5 from covariance matrix: 0.0\n",
      "\n",
      "\n",
      "[[-0.68599434 -0.68599434]\n",
      " [-0.68599434 -0.68599434]\n",
      " [ 0.          0.        ]\n",
      " [ 0.17149859  0.17149859]\n",
      " [-0.17149859 -0.17149859]]\n",
      "[[-0.68599434 -0.68599434 -0.72760688]\n",
      " [-0.68599434 -0.68599434  0.64676167]\n",
      " [ 0.          0.          0.        ]\n",
      " [ 0.17149859  0.17149859 -0.16169042]\n",
      " [-0.17149859 -0.17149859  0.16169042]]\n",
      "The Post-RPCA Matrix\n",
      "[[-0.7717436331412896 -2.2294816068526147]\n",
      " [-0.7717436331412896 -2.2294816068526147]\n",
      " [0.727606875108999 0.727606875108999]]\n",
      "[ -1.11022302e-16   1.06250000e+00   0.00000000e+00   1.48941819e-34\n",
      "   0.00000000e+00]\n"
     ]
    },
    {
     "data": {
      "text/plain": [
       "'true'"
      ]
     },
     "execution_count": 73,
     "metadata": {},
     "output_type": "execute_result"
    }
   ],
   "source": [
    "def truth(i):\n",
    "    a = robustPCA(z)\n",
    "    print a\n",
    "    b = robustPCA(x)\n",
    "    print b\n",
    "    if a[0] == b[0]:\n",
    "        return \"true\"\n",
    "    else:\n",
    "        return \"false\"\n",
    "\n",
    "truth(1)"
   ]
  },
  {
   "cell_type": "markdown",
   "metadata": {},
   "source": [
    "-------\n",
    "## Step 13: Simulation Assessment\n",
    "The algorithm performed as I anticipated on the simulated data, so it appears as though my understanding was good."
   ]
  }
 ],
 "metadata": {
  "anaconda-cloud": {},
  "kernelspec": {
   "display_name": "Python [default]",
   "language": "python",
   "name": "python2"
  },
  "language_info": {
   "codemirror_mode": {
    "name": "ipython",
    "version": 2
   },
   "file_extension": ".py",
   "mimetype": "text/x-python",
   "name": "python",
   "nbconvert_exporter": "python",
   "pygments_lexer": "ipython2",
   "version": "2.7.12"
  }
 },
 "nbformat": 4,
 "nbformat_minor": 0
}
