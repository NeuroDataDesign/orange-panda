{
 "cells": [
  {
   "cell_type": "code",
   "execution_count": 1,
   "metadata": {
    "collapsed": true
   },
   "outputs": [],
   "source": [
    "import h5py\n",
    "import os\n",
    "os.chdir(\"C:/Users/Nitin/Documents/Hopkins/BCI/datashare/nicolas\")\n",
    "\n",
    "# return tuple of patient info\n",
    "def get_patient(filename, nitin_bad):\n",
    "    D = h5py.File(filename, 'r')\n",
    "    patient = D[\"EEG\"][\"data\"][:, :]\n",
    "    time = D[\"EEG\"][\"times\"][:]\n",
    "    nic_auto_bad = D[\"auto_badchans\"][:]\n",
    "    nic_man_bad = D[\"man_badchans\"][:]\n",
    "    zero_elec = []\n",
    "    for i in range(patient.shape[1]):\n",
    "        is_zero = True\n",
    "        for j in range(500):\n",
    "            if patient[j, i] != 0:\n",
    "                is_zero = False\n",
    "        if is_zero:\n",
    "            zero_elec.append(i)\n",
    "        \n",
    "    # make it 0-indexed\n",
    "    nic_auto_bad = [int(x) - 1 for x in nic_auto_bad if x != 0]\n",
    "    nic_man_bad = [int(x) - 1 for x in nic_man_bad if x != 0]\n",
    "    nitin_bad = [int(x) - 1 for x in nitin_bad]\n",
    "    # get good electrodes\n",
    "    elec_range = range(0, 110)\n",
    "    good_elec = set(elec_range).difference(nic_auto_bad).difference(nic_man_bad).difference(nitin_bad).difference(zero_elec)\n",
    "    return patient, time, nic_auto_bad, nic_man_bad, nitin_bad, zero_elec, good_elec\n",
    "\n",
    "\n",
    "patient_names = [\"gp_A00051826001.mat\", \"bip_A00053375001.mat\", \"gip_A00051955001.mat\", \"gip_A00053440001.mat\", \"gp_A00051886001.mat\"]\n",
    "\n",
    "patients = []\n",
    "A00051826_nitin_bad = [26, 52, 58, 72, 78, 79, 95, 100, 105, 111]\n",
    "patients_nitin_bad = [A00051826_nitin_bad, [], [], [], [], []]\n",
    "for i in range(len(patient_names)):\n",
    "    patients.append(get_patient(patient_names[i], patients_nitin_bad[i]))\n"
   ]
  },
  {
   "cell_type": "markdown",
   "metadata": {},
   "source": [
    "### Kurtosis Bad Electrode:"
   ]
  },
  {
   "cell_type": "code",
   "execution_count": 2,
   "metadata": {
    "collapsed": true
   },
   "outputs": [],
   "source": [
    "from scipy.stats import kurtosis"
   ]
  },
  {
   "cell_type": "code",
   "execution_count": null,
   "metadata": {
    "collapsed": true
   },
   "outputs": [],
   "source": []
  }
 ],
 "metadata": {
  "kernelspec": {
   "display_name": "Python [conda root]",
   "language": "python",
   "name": "conda-root-py"
  },
  "language_info": {
   "codemirror_mode": {
    "name": "ipython",
    "version": 2
   },
   "file_extension": ".py",
   "mimetype": "text/x-python",
   "name": "python",
   "nbconvert_exporter": "python",
   "pygments_lexer": "ipython2",
   "version": "2.7.12"
  }
 },
 "nbformat": 4,
 "nbformat_minor": 1
}
