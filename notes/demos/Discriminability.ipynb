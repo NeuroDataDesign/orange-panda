{
 "cells": [
  {
   "cell_type": "markdown",
   "metadata": {},
   "source": [
    "# Discriminability for EEG Data\n",
    "\n",
    "Discriminability is an overall measure of the intra-subject consistency and the inter-subject differentiation in a test-retest type experiment with respect to a given metric $\\delta$. Once $\\delta$ is fixed, the discriminibility $$D = (\\Psi, \\Theta) = \\mathbb{P}(\\delta(x_{it}, x_{it'}) < \\delta{x_{it}, x_{i't''}}))$$\n",
    "Where $\\Psi$ are the parameters of preprocessing and $\\Phi$ are the parameters of the measurement technique.\n",
    "\n",
    "In our specific case, we do not get to change $\\Phi$. So we just need to find the parameters $\\Psi$ which maximize the discriminibility of the EEG data.\n",
    "\n",
    "Pseudocode of the discribminibility function:\n",
    "[Pseudo!]("
   ]
  },
  {
   "cell_type": "code",
   "execution_count": 19,
   "metadata": {
    "collapsed": false
   },
   "outputs": [],
   "source": [
    "#%matplotlib inline\n",
    "#import matplotlib.image as mpimage\n",
    "#img = mpimage.imread(\"Selection_006.png\")\n",
    "#import matplotlib.pyplot as plt\n",
    "#plt.axis(\"off\")\n",
    "#plt.imshow(img)"
   ]
  },
  {
   "cell_type": "markdown",
   "metadata": {},
   "source": [
    "Now let's implement a shell of this in python, making the distance function modular, because we do not know what we will use yet.\n",
    "\n",
    "The variable `eeg_data` can be considered a (C, N, T, S) `ndarray` object where:\n",
    "* C = the number of channels (111)\n",
    "* N = the number of timesteps (around 170 - 220k)\n",
    "* T = the number of trials (depends on the task, anywhere from 1 to 10)\n",
    "* S = the number of subjects (we have around 120, but we are only doing analysis on ~60 right now)."
   ]
  },
  {
   "cell_type": "code",
   "execution_count": 14,
   "metadata": {
    "collapsed": true
   },
   "outputs": [],
   "source": [
    "def partial_disc(eeg_data, s_p, t, t_p, delta):\n",
    "    T = eeg_data.shape[2] # Number of trials\n",
    "    S = eeg_data.shape[3] # Number of subjects\n",
    "    total_true = 0\n",
    "    for s in range(S):\n",
    "        if not (s == s_p):\n",
    "            for t_pp in range(T):\n",
    "                intra = delta(eeg_data[:, :, t, s], eeg_data[:, :, t_p, s])\n",
    "                inter = delta(eeg_data[:, :, t, s], eeg_data[:, :, t_pp, s_p])\n",
    "                print intra, inter\n",
    "                total_true += int(intra < inter)\n",
    "    print total_true\n",
    "    return float(total_true) / (T * (S-1))\n",
    "\n",
    "def disc(eeg_data, delta):\n",
    "    T = eeg_data.shape[2] # Number of trials\n",
    "    S = eeg_data.shape[3] # Number of subjects\n",
    "    tot = 0\n",
    "    for s in range(S):\n",
    "        for t in range(T):\n",
    "            for t_p in range(T):\n",
    "                if not (t_p == t):\n",
    "                    tot += partial_disc(eeg_data, s, t, t_p, delta)\n",
    "    return float(tot) / ((T-1) * T * S)"
   ]
  },
  {
   "cell_type": "markdown",
   "metadata": {},
   "source": [
    "Basic testing, lets just do 2 channels, 2 timesteps, 2 trials, 2 subjects."
   ]
  },
  {
   "cell_type": "code",
   "execution_count": 17,
   "metadata": {
    "collapsed": false
   },
   "outputs": [
    {
     "name": "stdout",
     "output_type": "stream",
     "text": [
      "[[[ 0.  0.  0.  0.]\n",
      "  [ 0.  0.  0.  0.]\n",
      "  [ 0.  0.  0.  0.]\n",
      "  [ 0.  0.  0.  0.]]\n",
      "\n",
      " [[ 0.  0.  0.  0.]\n",
      "  [ 0.  0.  0.  0.]\n",
      "  [ 0.  0.  0.  0.]\n",
      "  [ 0.  0.  0.  0.]]\n",
      "\n",
      " [[ 0.  0.  0.  0.]\n",
      "  [ 0.  0.  0.  0.]\n",
      "  [ 0.  0.  0.  0.]\n",
      "  [ 0.  0.  0.  0.]]\n",
      "\n",
      " [[ 0.  0.  0.  0.]\n",
      "  [ 0.  0.  0.  0.]\n",
      "  [ 0.  0.  0.  0.]\n",
      "  [ 0.  0.  0.  0.]]]\n"
     ]
    }
   ],
   "source": [
    "import numpy as np\n",
    "one = np.zeros([4, 4, 4])\n",
    "two = np.ones([4, 4, 4])\n",
    "eeg_data = np.concatenate([one[...,np.newaxis], two[...,np.newaxis]], axis=3)\n",
    "#print eeg_data\n",
    "#print eeg_data.shape\n",
    "print eeg_data[:,:,:,0]"
   ]
  },
  {
   "cell_type": "markdown",
   "metadata": {},
   "source": [
    "Now lets see the discriminability:"
   ]
  },
  {
   "cell_type": "code",
   "execution_count": 18,
   "metadata": {
    "collapsed": false
   },
   "outputs": [
    {
     "name": "stdout",
     "output_type": "stream",
     "text": [
      "0 1\n",
      "0 1\n",
      "0 1\n",
      "0 1\n",
      "4\n",
      "0 1\n",
      "0 1\n",
      "0 1\n",
      "0 1\n",
      "4\n",
      "0 1\n",
      "0 1\n",
      "0 1\n",
      "0 1\n",
      "4\n",
      "0 1\n",
      "0 1\n",
      "0 1\n",
      "0 1\n",
      "4\n",
      "0 1\n",
      "0 1\n",
      "0 1\n",
      "0 1\n",
      "4\n",
      "0 1\n",
      "0 1\n",
      "0 1\n",
      "0 1\n",
      "4\n",
      "0 1\n",
      "0 1\n",
      "0 1\n",
      "0 1\n",
      "4\n",
      "0 1\n",
      "0 1\n",
      "0 1\n",
      "0 1\n",
      "4\n",
      "0 1\n",
      "0 1\n",
      "0 1\n",
      "0 1\n",
      "4\n",
      "0 1\n",
      "0 1\n",
      "0 1\n",
      "0 1\n",
      "4\n",
      "0 1\n",
      "0 1\n",
      "0 1\n",
      "0 1\n",
      "4\n",
      "0 1\n",
      "0 1\n",
      "0 1\n",
      "0 1\n",
      "4\n",
      "0 1\n",
      "0 1\n",
      "0 1\n",
      "0 1\n",
      "4\n",
      "0 1\n",
      "0 1\n",
      "0 1\n",
      "0 1\n",
      "4\n",
      "0 1\n",
      "0 1\n",
      "0 1\n",
      "0 1\n",
      "4\n",
      "0 1\n",
      "0 1\n",
      "0 1\n",
      "0 1\n",
      "4\n",
      "0 1\n",
      "0 1\n",
      "0 1\n",
      "0 1\n",
      "4\n",
      "0 1\n",
      "0 1\n",
      "0 1\n",
      "0 1\n",
      "4\n",
      "0 1\n",
      "0 1\n",
      "0 1\n",
      "0 1\n",
      "4\n",
      "0 1\n",
      "0 1\n",
      "0 1\n",
      "0 1\n",
      "4\n",
      "0 1\n",
      "0 1\n",
      "0 1\n",
      "0 1\n",
      "4\n",
      "0 1\n",
      "0 1\n",
      "0 1\n",
      "0 1\n",
      "4\n",
      "0 1\n",
      "0 1\n",
      "0 1\n",
      "0 1\n",
      "4\n",
      "0 1\n",
      "0 1\n",
      "0 1\n",
      "0 1\n",
      "4\n",
      "1.0\n"
     ]
    }
   ],
   "source": [
    "def delta(arr1, arr2):\n",
    "    if np.array_equal(arr1, arr2):\n",
    "        return 0\n",
    "    return 1\n",
    "\n",
    "print disc(eeg_data, delta)"
   ]
  },
  {
   "cell_type": "code",
   "execution_count": null,
   "metadata": {
    "collapsed": true
   },
   "outputs": [],
   "source": []
  },
  {
   "cell_type": "code",
   "execution_count": null,
   "metadata": {
    "collapsed": true
   },
   "outputs": [],
   "source": []
  },
  {
   "cell_type": "code",
   "execution_count": null,
   "metadata": {
    "collapsed": true
   },
   "outputs": [],
   "source": []
  }
 ],
 "metadata": {
  "anaconda-cloud": {},
  "kernelspec": {
   "display_name": "Python [default]",
   "language": "python",
   "name": "python2"
  },
  "language_info": {
   "codemirror_mode": {
    "name": "ipython",
    "version": 2
   },
   "file_extension": ".py",
   "mimetype": "text/x-python",
   "name": "python",
   "nbconvert_exporter": "python",
   "pygments_lexer": "ipython2",
   "version": "2.7.12"
  }
 },
 "nbformat": 4,
 "nbformat_minor": 1
}
