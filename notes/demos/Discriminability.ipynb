{
 "cells": [
  {
   "cell_type": "markdown",
   "metadata": {},
   "source": [
    "# Discriminability for EEG Data\n",
    "\n",
    "Discriminability is an overall measure of the intra-subject consistency and the inter-subject differentiation in a test-retest type experiment with respect to a given metric $\\delta$. Once $\\delta$ is fixed, the discriminibility $$D = (\\Psi, \\Theta) = \\mathbb{P}(\\delta(x_{it}, x_{it'}) < \\delta{x_{it}, x_{i't''}}))$$\n",
    "Where $\\Psi$ are the parameters of preprocessing and $\\Phi$ are the parameters of the measurement technique.\n",
    "\n",
    "In our specific case, we do not get to change $\\Phi$. So we just need to find the parameters $\\Psi$ which maximize the discriminibility of the EEG data.\n",
    "\n",
    "Pseudocode of the discribminibility function:\n",
    "[Pseudocoooooode!](https://github.com/NeuroDataDesign/orange-panda/blob/master/notes/discriminability/discriminability.pdf)"
   ]
  },
  {
   "cell_type": "code",
   "execution_count": 19,
   "metadata": {
    "collapsed": false
   },
   "outputs": [],
   "source": [
    "#%matplotlib inline\n",
    "#import matplotlib.image as mpimage\n",
    "#img = mpimage.imread(\"Selection_006.png\")\n",
    "#import matplotlib.pyplot as plt\n",
    "#plt.axis(\"off\")\n",
    "#plt.imshow(img)"
   ]
  },
  {
   "cell_type": "markdown",
   "metadata": {},
   "source": [
    "Now let's implement a shell of this in python, making the distance function modular, because we do not know what we will use yet.\n",
    "\n",
    "The variable `eeg_data` can be considered a (C, N, T, S) `ndarray` object where:\n",
    "* C = the number of channels (111)\n",
    "* N = the number of timesteps (around 170 - 220k)\n",
    "* T = the number of trials (depends on the task, anywhere from 1 to 10)\n",
    "* S = the number of subjects (we have around 120, but we are only doing analysis on ~60 right now)."
   ]
  },
  {
   "cell_type": "code",
   "execution_count": 38,
   "metadata": {
    "collapsed": true
   },
   "outputs": [],
   "source": [
    "def rdf(eeg_data, delta, s):\n",
    "    T = eeg_data.shape[2] # Number of trials\n",
    "    S = eeg_data.shape[3] # Number of subjects\n",
    "    total_true = 0\n",
    "    for s_ in range(S):\n",
    "        if not (s == s_):\n",
    "            for t in range(T):\n",
    "                for t_ in range(T):\n",
    "                    if not (t == t_):\n",
    "                        intra = delta(eeg_data[:, :, t, s], eeg_data[:, :, t_, s])\n",
    "                        inter = delta(eeg_data[:, :, t, s], eeg_data[:, :, t, s_])\n",
    "                        #print intra, inter\n",
    "                        total_true += int(intra < inter)\n",
    "    #print total_true\n",
    "    return float(total_true) / ((S-1) * T * (T-1))\n",
    "\n",
    "def disc(eeg_data, delta):\n",
    "    T = eeg_data.shape[2] # Number of trials\n",
    "    S = eeg_data.shape[3] # Number of subjects\n",
    "    tot = 0\n",
    "    for s in range(S):\n",
    "        tot += rdf(eeg_data, delta, s)\n",
    "    return float(tot) / (S)"
   ]
  },
  {
   "cell_type": "markdown",
   "metadata": {},
   "source": [
    "Basic testing, lets just do 2 channels, 2 timesteps, 2 trials, 2 subjects."
   ]
  },
  {
   "cell_type": "code",
   "execution_count": 39,
   "metadata": {
    "collapsed": false
   },
   "outputs": [
    {
     "name": "stdout",
     "output_type": "stream",
     "text": [
      "[[[ 0.  0.  0.  0.]\n",
      "  [ 0.  0.  0.  0.]\n",
      "  [ 0.  0.  0.  0.]\n",
      "  [ 0.  0.  0.  0.]]\n",
      "\n",
      " [[ 0.  0.  0.  0.]\n",
      "  [ 0.  0.  0.  0.]\n",
      "  [ 0.  0.  0.  0.]\n",
      "  [ 0.  0.  0.  0.]]\n",
      "\n",
      " [[ 0.  0.  0.  0.]\n",
      "  [ 0.  0.  0.  0.]\n",
      "  [ 0.  0.  0.  0.]\n",
      "  [ 0.  0.  0.  0.]]\n",
      "\n",
      " [[ 0.  0.  0.  0.]\n",
      "  [ 0.  0.  0.  0.]\n",
      "  [ 0.  0.  0.  0.]\n",
      "  [ 0.  0.  0.  0.]]]\n"
     ]
    }
   ],
   "source": [
    "import numpy as np\n",
    "one = np.zeros([4, 4, 4])\n",
    "two = np.ones([4, 4, 4])\n",
    "eeg_data = np.concatenate([one[...,np.newaxis], two[...,np.newaxis]], axis=3)\n",
    "#print eeg_data\n",
    "#print eeg_data.shape\n",
    "print eeg_data[:,:,:,0]"
   ]
  },
  {
   "cell_type": "markdown",
   "metadata": {},
   "source": [
    "Now lets see the discriminability:"
   ]
  },
  {
   "cell_type": "code",
   "execution_count": 40,
   "metadata": {
    "collapsed": false
   },
   "outputs": [
    {
     "name": "stdout",
     "output_type": "stream",
     "text": [
      "1.0\n"
     ]
    }
   ],
   "source": [
    "def distance(arr1, arr2):\n",
    "    if np.array_equal(arr1, arr2):\n",
    "        return 0\n",
    "    return 1\n",
    "\n",
    "print disc(eeg_data, distance)"
   ]
  },
  {
   "cell_type": "code",
   "execution_count": null,
   "metadata": {
    "collapsed": true
   },
   "outputs": [],
   "source": []
  }
 ],
 "metadata": {
  "anaconda-cloud": {},
  "kernelspec": {
   "display_name": "Python [default]",
   "language": "python",
   "name": "python2"
  },
  "language_info": {
   "codemirror_mode": {
    "name": "ipython",
    "version": 2
   },
   "file_extension": ".py",
   "mimetype": "text/x-python",
   "name": "python",
   "nbconvert_exporter": "python",
   "pygments_lexer": "ipython2",
   "version": "2.7.12"
  }
 },
 "nbformat": 4,
 "nbformat_minor": 1
}
