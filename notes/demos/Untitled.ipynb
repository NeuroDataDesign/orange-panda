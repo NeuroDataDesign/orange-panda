{
 "cells": [
  {
   "cell_type": "markdown",
   "metadata": {},
   "source": [
    "## Bad Electrode Detection via Kernel Probability Density Functions\n",
    "\n",
    "### Step 1: Pseudocode\n",
    "[PDF](https://github.com/NeuroDataDesign/orange-panda/blob/master/pipeline/baddetec/kernel-probability-density.pdf) and [LaTeX source code](https://www.overleaf.com/6662703bhxbyx#/22612002/)"
   ]
  },
  {
   "cell_type": "markdown",
   "metadata": {},
   "source": [
    "### Step 2: Simulations & Details of Their Parameters\n",
    "***Success:***\n",
    "- 1-D vector of 20 observations, two clusters with\n",
    "    - 10 of them class 0 with values between 0 and 1, and\n",
    "    - 10 of them class 1 with values between 4 and 5\n",
    "***Failure***\n",
    "1-D vector of 20 observations, two clusters with\n",
    "10 of them class 0 with values between 0 and 1, and\n",
    "10 of them class 1 with values between -5 and 5\n"
   ]
  },
  {
   "cell_type": "code",
   "execution_count": null,
   "metadata": {
    "collapsed": true
   },
   "outputs": [],
   "source": []
  }
 ],
 "metadata": {
  "kernelspec": {
   "display_name": "Python [conda root]",
   "language": "python",
   "name": "conda-root-py"
  },
  "language_info": {
   "codemirror_mode": {
    "name": "ipython",
    "version": 2
   },
   "file_extension": ".py",
   "mimetype": "text/x-python",
   "name": "python",
   "nbconvert_exporter": "python",
   "pygments_lexer": "ipython2",
   "version": "2.7.12"
  }
 },
 "nbformat": 4,
 "nbformat_minor": 1
}
