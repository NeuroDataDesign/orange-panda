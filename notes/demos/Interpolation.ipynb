{
 "cells": [
  {
   "cell_type": "markdown",
   "metadata": {},
   "source": [
    "# Inverse great circle distance spherical interpolation\n",
    "## Ryan Marren\n"
   ]
  },
  {
   "cell_type": "code",
   "execution_count": 1,
   "metadata": {
    "collapsed": true
   },
   "outputs": [],
   "source": [
    "import sys\n",
    "sys.path.append('../src/')\n"
   ]
  },
  {
   "cell_type": "code",
   "execution_count": 2,
   "metadata": {
    "collapsed": false
   },
   "outputs": [],
   "source": [
    "from preprocessing.interp import gc_invdist_interp, fit_sphere\n",
    "import numpy as np\n",
    "import utils.plots as plots"
   ]
  },
  {
   "cell_type": "code",
   "execution_count": 3,
   "metadata": {
    "collapsed": false
   },
   "outputs": [],
   "source": [
    "times = np.linspace(0, 1, 1000)\n",
    "cos = np.cos(2 * np.pi * times)\n",
    "data = np.column_stack([cos] * 5)\n",
    "data = np.expand_dims(data, 2)"
   ]
  },
  {
   "cell_type": "code",
   "execution_count": 4,
   "metadata": {
    "collapsed": false,
    "scrolled": true
   },
   "outputs": [],
   "source": [
    "from random import random as rnd\n",
    "def sp_to_crt(theta, phi, r, rad):\n",
    "    x = rad * np.sin(theta) * np.cos(phi)\n",
    "    y = rad * np.sin(theta) * np.sin(phi)\n",
    "    z = rad * np.cos(theta)\n",
    "    return x,y,z\n",
    "def rand_coord():\n",
    "    return [rnd() * 180, rnd() * 90, 1]\n",
    "coords = np.asarray([rand_coord() for _ in xrange(5)])\n",
    "coords = np.expand_dims(coords, 2)\n",
    "crt = np.asarray(map(lambda x: sp_to_crt(*x, rad = 1),coords))"
   ]
  },
  {
   "cell_type": "code",
   "execution_count": 5,
   "metadata": {
    "collapsed": false
   },
   "outputs": [
    {
     "data": {
      "image/png": "[encoded data removed]",
      "text/plain": [
       "<matplotlib.figure.Figure at 0x7f151ddfb3d0>"
      ]
     },
     "metadata": {},
     "output_type": "display_data"
    },
    {
     "name": "stderr",
     "output_type": "stream",
     "text": [
      "../src/preprocessing/interp.py:143: VisibleDeprecationWarning: using a non-integer number instead of an integer will result in an error in the future\n",
      "  gcord = coords[ind]\n"
     ]
    },
    {
     "ename": "IndexError",
     "evalue": "index 151 is out of bounds for axis 0 with size 5",
     "output_type": "error",
     "traceback": [
      "\u001b[0;31m---------------------------------------------------------------------------\u001b[0m",
      "\u001b[0;31mIndexError\u001b[0m                                Traceback (most recent call last)",
      "\u001b[0;32m<ipython-input-5-45aee7507dfd>\u001b[0m in \u001b[0;36m<module>\u001b[0;34m()\u001b[0m\n\u001b[1;32m      7\u001b[0m \u001b[0mint_coord\u001b[0m \u001b[0;34m=\u001b[0m \u001b[0mlist\u001b[0m\u001b[0;34m(\u001b[0m\u001b[0mrand_coord\u001b[0m\u001b[0;34m(\u001b[0m\u001b[0;34m)\u001b[0m\u001b[0;34m)\u001b[0m\u001b[0;34m[\u001b[0m\u001b[0;34m:\u001b[0m\u001b[0;34m-\u001b[0m\u001b[0;36m1\u001b[0m\u001b[0;34m]\u001b[0m\u001b[0;34m\u001b[0m\u001b[0m\n\u001b[1;32m      8\u001b[0m \u001b[0;34m\u001b[0m\u001b[0m\n\u001b[0;32m----> 9\u001b[0;31m \u001b[0minterpolated\u001b[0m \u001b[0;34m=\u001b[0m \u001b[0mgc_invdist_interp\u001b[0m\u001b[0;34m(\u001b[0m\u001b[0mdata\u001b[0m\u001b[0;34m,\u001b[0m \u001b[0mint_coord\u001b[0m\u001b[0;34m,\u001b[0m \u001b[0mcoords\u001b[0m\u001b[0;34m,\u001b[0m \u001b[0;36m1\u001b[0m\u001b[0;34m,\u001b[0m \u001b[0;36m5\u001b[0m\u001b[0;34m)\u001b[0m\u001b[0;34m[\u001b[0m\u001b[0;36m0\u001b[0m\u001b[0;34m]\u001b[0m\u001b[0;34m\u001b[0m\u001b[0m\n\u001b[0m\u001b[1;32m     10\u001b[0m \u001b[0minterpolated\u001b[0m \u001b[0;34m=\u001b[0m \u001b[0minterpolated\u001b[0m\u001b[0;34m.\u001b[0m\u001b[0mreshape\u001b[0m\u001b[0;34m(\u001b[0m\u001b[0mlen\u001b[0m\u001b[0;34m(\u001b[0m\u001b[0minterpolated\u001b[0m\u001b[0;34m)\u001b[0m\u001b[0;34m,\u001b[0m \u001b[0;36m1\u001b[0m\u001b[0;34m,\u001b[0m \u001b[0;36m1\u001b[0m\u001b[0;34m)\u001b[0m\u001b[0;34m\u001b[0m\u001b[0m\n\u001b[1;32m     11\u001b[0m plots.plot_timeseries(data = interpolated,\n",
      "\u001b[0;32m/home/ryan/Documents/nd/orange-panda/pipeline/src/preprocessing/interp.pyc\u001b[0m in \u001b[0;36mgc_invdist_interp\u001b[0;34m(data, bad_electrodes, coords, r, numpts)\u001b[0m\n\u001b[1;32m    141\u001b[0m     \u001b[0mclosest\u001b[0m \u001b[0;34m=\u001b[0m \u001b[0;34m[\u001b[0m\u001b[0;34m]\u001b[0m\u001b[0;34m\u001b[0m\u001b[0m\n\u001b[1;32m    142\u001b[0m     \u001b[0;32mfor\u001b[0m \u001b[0mind\u001b[0m \u001b[0;32min\u001b[0m \u001b[0mbad_electrodes\u001b[0m\u001b[0;34m:\u001b[0m\u001b[0;34m\u001b[0m\u001b[0m\n\u001b[0;32m--> 143\u001b[0;31m         \u001b[0mgcord\u001b[0m \u001b[0;34m=\u001b[0m \u001b[0mcoords\u001b[0m\u001b[0;34m[\u001b[0m\u001b[0mind\u001b[0m\u001b[0;34m]\u001b[0m\u001b[0;34m\u001b[0m\u001b[0m\n\u001b[0m\u001b[1;32m    144\u001b[0m         \u001b[0mt\u001b[0m\u001b[0;34m,\u001b[0m \u001b[0mp\u001b[0m\u001b[0;34m,\u001b[0m \u001b[0m_\u001b[0m \u001b[0;34m=\u001b[0m \u001b[0mgcord\u001b[0m\u001b[0;34m\u001b[0m\u001b[0m\n\u001b[1;32m    145\u001b[0m         \u001b[0mds\u001b[0m \u001b[0;34m=\u001b[0m \u001b[0mnp\u001b[0m\u001b[0;34m.\u001b[0m\u001b[0mzeros\u001b[0m\u001b[0;34m(\u001b[0m\u001b[0;34m[\u001b[0m\u001b[0mcoords\u001b[0m\u001b[0;34m.\u001b[0m\u001b[0mshape\u001b[0m\u001b[0;34m[\u001b[0m\u001b[0;36m0\u001b[0m\u001b[0;34m]\u001b[0m\u001b[0;34m]\u001b[0m\u001b[0;34m)\u001b[0m\u001b[0;34m\u001b[0m\u001b[0m\n",
      "\u001b[0;31mIndexError\u001b[0m: index 151 is out of bounds for axis 0 with size 5"
     ]
    }
   ],
   "source": [
    "plots.plot_timeseries(data = data,\n",
    "                      time = times,\n",
    "                      selector = \"all\",\n",
    "                      title = \"Channel Data\",\n",
    "                      xlab = r'$t$',\n",
    "                      ylab = r'$y$')\n",
    "int_coord = list(rand_coord())[:-1]\n",
    "\n",
    "interpolated = gc_invdist_interp(data, int_coord, coords, 1, 5)[0]\n",
    "interpolated = interpolated.reshape(len(interpolated), 1, 1)\n",
    "plots.plot_timeseries(data = interpolated,\n",
    "                      time = times,\n",
    "                      selector = \"all\",\n",
    "                      title = \"Interpolated\",\n",
    "                      xlab = r'$t$',\n",
    "                      ylab = r'$y$')"
   ]
  },
  {
   "cell_type": "code",
   "execution_count": null,
   "metadata": {
    "collapsed": false
   },
   "outputs": [],
   "source": [
    "nmbs = [rnd() for _ in xrange(5)]\n",
    "data = np.column_stack(map(lambda x: np.repeat(x, len(times)) ,nmbs))\n",
    "data = np.expand_dims(data, 2)"
   ]
  },
  {
   "cell_type": "code",
   "execution_count": null,
   "metadata": {
    "collapsed": false,
    "scrolled": true
   },
   "outputs": [],
   "source": [
    "plots.plot_timeseries(data = data,\n",
    "                      time = times,\n",
    "                      selector = \"all\",\n",
    "                      title = \"Channel Data\",\n",
    "                      xlab = r'$t$',\n",
    "                      ylab = r'$y$')\n",
    "int_coord = list(rand_coord())[:-1]\n",
    "\n",
    "interpolated = gc_invdist_interp(data, int_coord, coords, 1, 5)[0]\n",
    "interpolated = interpolated.reshape(len(interpolated), 1, 1)\n",
    "plots.plot_timeseries(data = interpolated,\n",
    "                      time = times,\n",
    "                      selector = \"all\",\n",
    "                      title = \"Interpolated\",\n",
    "                      xlab = r'$t$',\n",
    "                      ylab = r'$y$')\n"
   ]
  },
  {
   "cell_type": "code",
   "execution_count": null,
   "metadata": {
    "collapsed": false
   },
   "outputs": [],
   "source": [
    "import utils.get_data as gd\n",
    "import os\n",
    "os.chdir('/home/ryan/Documents/nd/orange-panda/pipeline/src/')\n",
    "pats = gd.get_patients()\n",
    "fp = gd.get_record(pats[0])\n",
    "ds = gd.make_h5py_object(fp)\n",
    "import utils.clean_data as cd\n",
    "eeg = cd.get_eeg_data(ds)\n",
    "times = cd.get_times(ds)\n",
    "coords = np.asarray(cd.get_electrode_coords(ds))\n",
    "coords = np.expand_dims(coords,2)"
   ]
  },
  {
   "cell_type": "code",
   "execution_count": null,
   "metadata": {
    "collapsed": false
   },
   "outputs": [],
   "source": [
    "intcoord = (coords[0][0], coords[0][1])\n",
    "interpolated, inds = gc_invdist_interp(np.expand_dims(eeg, 2), intcoord, coords, fit_sphere(coords), 5)\n",
    "d = np.column_stack([eeg[:, i] for i in inds])\n",
    "d = np.column_stack([d, interpolated])\n",
    "print d.shape\n",
    "print inds\n",
    "c = 0\n",
    "broken = []\n",
    "for i in range(111):\n",
    "    if sum(eeg[:, i]**2) == 0:\n",
    "        c = c + 1\n",
    "        broken.append(i)\n",
    "print broken\n",
    "plots.plot_timeseries(data = d,\n",
    "                      time = times,\n",
    "                      selector = \"all\",\n",
    "                      title = \"Interpolated (blue) electrode with its 5 closest neighbors.\",\n",
    "                      colors = [\"red\", \"red\", \"red\", \"red\", \"red\", \"blue\"],\n",
    "                      start = 100,\n",
    "                      end = 2000,\n",
    "                      skip = 10,\n",
    "                      xlab = r'$t$, in milliseconds',\n",
    "                      ylab = r'difference from mean voltage in $mV$')"
   ]
  },
  {
   "cell_type": "code",
   "execution_count": null,
   "metadata": {
    "collapsed": true
   },
   "outputs": [],
   "source": []
  }
 ],
 "metadata": {
  "kernelspec": {
   "display_name": "Python 2",
   "language": "python",
   "name": "python2"
  },
  "language_info": {
   "codemirror_mode": {
    "name": "ipython",
    "version": 2
   },
   "file_extension": ".py",
   "mimetype": "text/x-python",
   "name": "python",
   "nbconvert_exporter": "python",
   "pygments_lexer": "ipython2",
   "version": "2.7.12"
  }
 },
 "nbformat": 4,
 "nbformat_minor": 1
}
