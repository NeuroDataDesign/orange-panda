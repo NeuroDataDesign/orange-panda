{
 "cells": [
  {
   "cell_type": "markdown",
   "metadata": {},
   "source": [
    "# Bad Electrode Detection\n",
    "\n",
    "Start by importing dependencies. Will need scipy and numpy"
   ]
  },
  {
   "cell_type": "code",
   "execution_count": 5,
   "metadata": {
    "collapsed": false
   },
   "outputs": [],
   "source": [
    "from scipy import stats\n",
    "import numpy as np\n",
    "import sys\n",
    "sys.path.append('../src/')\n",
    "import utils.plots as plots"
   ]
  },
  {
   "cell_type": "markdown",
   "metadata": {},
   "source": [
    "Define probability distribution wrapper function. For now simply implements KDE."
   ]
  },
  {
   "cell_type": "code",
   "execution_count": 6,
   "metadata": {
    "collapsed": false
   },
   "outputs": [],
   "source": [
    "def get_probarr(elec):\n",
    "    kernel = stats.gaussian_kde(elec)\n",
    "    return np.reshape(kernel(elec).T, elec.shape)"
   ]
  },
  {
   "cell_type": "markdown",
   "metadata": {},
   "source": [
    "Define the joint prob function to be used later"
   ]
  },
  {
   "cell_type": "code",
   "execution_count": 7,
   "metadata": {
    "collapsed": true
   },
   "outputs": [],
   "source": [
    "def get_jointprob(probarr):\n",
    "    return -np.sum(np.multiply(probarr, np.log(probarr)))"
   ]
  },
  {
   "cell_type": "markdown",
   "metadata": {},
   "source": [
    "## Simulated Data\n",
    "Basically, this method will call out data that has more variation and thus is less likely to be true than others. So basically, I'm going to make some really closely bunched sine waves and then a huge noisy wave that is less likely a real signal.\n",
    "\n",
    "### First generate simulated data"
   ]
  },
  {
   "cell_type": "code",
   "execution_count": 16,
   "metadata": {
    "collapsed": false
   },
   "outputs": [
    {
     "name": "stdout",
     "output_type": "stream",
     "text": [
      "(1000L, 5L, 1L)\n"
     ]
    }
   ],
   "source": [
    "times = np.linspace(0, 1, 1000)\n",
    "cos = np.cos(2 * np.pi * times)\n",
    "# 5 cosine waves overlayed on each other\n",
    "data = np.column_stack([cos] * 5)\n",
    "data = np.expand_dims(data, 2)\n",
    "print data.shape"
   ]
  },
  {
   "cell_type": "code",
   "execution_count": 12,
   "metadata": {
    "collapsed": false
   },
   "outputs": [],
   "source": [
    "# Generate white noise\n",
    "T = 100\n",
    "Fs = 10\n",
    "mean = 0\n",
    "std = 1 \n",
    "wn = np.random.normal(mean, std, size=T * Fs)\n",
    "times = np.arange(len(wn)) / float(Fs)\n",
    "data[:, 4, -1] = data[:, 4, -1] + wn.T"
   ]
  },
  {
   "cell_type": "code",
   "execution_count": 13,
   "metadata": {
    "collapsed": false
   },
   "outputs": [
    {
     "ename": "NameError",
     "evalue": "name 'rand_coord' is not defined",
     "output_type": "error",
     "traceback": [
      "\u001b[0;31m---------------------------------------------------------------------------\u001b[0m",
      "\u001b[0;31mNameError\u001b[0m                                 Traceback (most recent call last)",
      "\u001b[0;32m<ipython-input-13-17a81b4ce4d8>\u001b[0m in \u001b[0;36m<module>\u001b[0;34m()\u001b[0m\n\u001b[1;32m      5\u001b[0m                       \u001b[0mxlab\u001b[0m \u001b[1;33m=\u001b[0m \u001b[1;34mr'$t$'\u001b[0m\u001b[1;33m,\u001b[0m\u001b[1;33m\u001b[0m\u001b[0m\n\u001b[1;32m      6\u001b[0m                       ylab = r'$y$')\n\u001b[0;32m----> 7\u001b[0;31m \u001b[0mint_coord\u001b[0m \u001b[1;33m=\u001b[0m \u001b[0mlist\u001b[0m\u001b[1;33m(\u001b[0m\u001b[0mrand_coord\u001b[0m\u001b[1;33m(\u001b[0m\u001b[1;33m)\u001b[0m\u001b[1;33m)\u001b[0m\u001b[1;33m[\u001b[0m\u001b[1;33m:\u001b[0m\u001b[1;33m-\u001b[0m\u001b[1;36m1\u001b[0m\u001b[1;33m]\u001b[0m\u001b[1;33m\u001b[0m\u001b[0m\n\u001b[0m\u001b[1;32m      8\u001b[0m \u001b[1;33m\u001b[0m\u001b[0m\n\u001b[1;32m      9\u001b[0m plots.plot_timeseries(data = data[:,4],\n",
      "\u001b[0;31mNameError\u001b[0m: name 'rand_coord' is not defined"
     ]
    }
   ],
   "source": [
    "plots.plot_timeseries(data = data[:,0],\n",
    "                      time = times,\n",
    "                      selector = \"all\",\n",
    "                      title = \"Channel Data\",\n",
    "                      xlab = r'$t$',\n",
    "                      ylab = r'$y$')\n",
    "int_coord = list(rand_coord())[:-1]\n",
    "\n",
    "plots.plot_timeseries(data = data[:,4],\n",
    "                      time = times,\n",
    "                      selector = \"all\",\n",
    "                      title = \"White Noise Data\",\n",
    "                      xlab = r'$t$',\n",
    "                      ylab = r'$y$')\n",
    "int_coord = list(rand_coord())[:-1]"
   ]
  },
  {
   "cell_type": "markdown",
   "metadata": {},
   "source": [
    "#### Go step by step.\n",
    "Start by reshaping data"
   ]
  },
  {
   "cell_type": "code",
   "execution_count": 222,
   "metadata": {
    "collapsed": false
   },
   "outputs": [
    {
     "name": "stdout",
     "output_type": "stream",
     "text": [
      "Original dimensions: (1000L, 5L, 1L)\n",
      "Final dimensions: (1000L, 5L)\n"
     ]
    }
   ],
   "source": [
    "print \"Original dimensions:\", data.shape\n",
    "\n",
    "inEEG = data\n",
    "\n",
    "electrodes = 0\n",
    "trials = 0\n",
    "times = 0\n",
    "\n",
    "if len(inEEG.shape) == 3:\n",
    "    electrodes = inEEG.shape[1]\n",
    "    times = inEEG.shape[0]\n",
    "    trials = inEEG.shape[2]\n",
    "    inEEG = np.reshape(inEEG, (inEEG.shape[0], inEEG.shape[1] * inEEG.shape[2]))\n",
    "elif len(inEEG.shape) != 1 or len(inEEG.shape) != 2:\n",
    "    # fail case\n",
    "    print \"fail\"\n",
    "    \n",
    "print \"Final dimensions:\", inEEG.shape"
   ]
  },
  {
   "cell_type": "markdown",
   "metadata": {},
   "source": [
    "**As can seen above, matrix is reshaped into a 2 dimensional matrix or a 1 dimensional vector for later use.**\n",
    "\n",
    "Next, sample running the probability distribution function."
   ]
  },
  {
   "cell_type": "code",
   "execution_count": 223,
   "metadata": {
    "collapsed": false
   },
   "outputs": [
    {
     "name": "stdout",
     "output_type": "stream",
     "text": [
      "-0.999995055317\n",
      "1.0\n",
      "[ 0.32343492]\n",
      "[ 0.4691347]\n",
      "[ 0.47137853]\n"
     ]
    }
   ],
   "source": [
    "regelec = inEEG[:, 0]\n",
    "#print regelec\n",
    "kernel1 = stats.gaussian_kde(regelec)\n",
    "print min(regelec)\n",
    "print max(regelec)\n",
    "x1 = np.linspace(-1, 1, 1000)\n",
    "probdist = np.reshape(kernel1(x1).T, regelec.shape)\n",
    "print kernel1(0)\n",
    "print kernel1(-1)\n",
    "print kernel1(1)"
   ]
  },
  {
   "cell_type": "code",
   "execution_count": 224,
   "metadata": {
    "collapsed": false
   },
   "outputs": [
    {
     "name": "stdout",
     "output_type": "stream",
     "text": [
      "-0.999995055317\n",
      "1.0\n",
      "[ 0.32343492]\n",
      "[ 0.4691347]\n",
      "[ 0.47137853]\n"
     ]
    }
   ],
   "source": [
    "regelec = inEEG[:, 1]\n",
    "#print regelec\n",
    "kernel1a = stats.gaussian_kde(regelec)\n",
    "print min(regelec)\n",
    "print max(regelec)\n",
    "x1 = np.linspace(-1, 1, 1000)\n",
    "probdist = np.reshape(kernel1a(x1).T, regelec.shape)\n",
    "print kernel1a(0)\n",
    "print kernel1a(-1)\n",
    "print kernel1a(1)"
   ]
  },
  {
   "cell_type": "code",
   "execution_count": 225,
   "metadata": {
    "collapsed": false
   },
   "outputs": [
    {
     "name": "stdout",
     "output_type": "stream",
     "text": [
      "-0.999995055317\n",
      "1.0\n",
      "(1000L,)\n",
      "[ 0.32343492]\n",
      "[ 0.4691347]\n",
      "[ 0.47137853]\n"
     ]
    }
   ],
   "source": [
    "badelec = inEEG[:, 4]\n",
    "#print regelec\n",
    "kernel2 = stats.gaussian_kde(badelec)\n",
    "print min(badelec)\n",
    "print max(badelec)\n",
    "x2 = np.linspace(min(badelec), max(badelec), 1000)\n",
    "badprobdist = np.reshape(kernel2(x2).T, regelec.shape)\n",
    "print badprobdist.shape\n",
    "print kernel2(0)\n",
    "print kernel2(-1)\n",
    "print kernel2(1)"
   ]
  },
  {
   "cell_type": "code",
   "execution_count": 226,
   "metadata": {
    "collapsed": false,
    "scrolled": true
   },
   "outputs": [
    {
     "data": {
      "image/png": "[encoded data removed]",
      "text/plain": [
       "<matplotlib.figure.Figure at 0xa377dd8>"
      ]
     },
     "metadata": {},
     "output_type": "display_data"
    }
   ],
   "source": [
    "import matplotlib.pyplot as plt\n",
    "plt.plot(x1, probdist)\n",
    "plt.plot(x2, badprobdist)\n",
    "plt.show()"
   ]
  },
  {
   "cell_type": "code",
   "execution_count": 227,
   "metadata": {
    "collapsed": false
   },
   "outputs": [
    {
     "name": "stdout",
     "output_type": "stream",
     "text": [
      "Regular Plot: 0.841026809042\n",
      "Regular Plot 2: 0.841026809042\n",
      "Bad Plot: 0.841026809042\n"
     ]
    }
   ],
   "source": [
    "print \"Regular Plot:\", kernel1.integrate_box_1d(-1, 1)\n",
    "print \"Regular Plot 2:\", kernel1a.integrate_box_1d(-1, 1)\n",
    "print \"Bad Plot:\", kernel2.integrate_box_1d(-1, 1)"
   ]
  },
  {
   "cell_type": "markdown",
   "metadata": {},
   "source": [
    "*Run 2 of the same plot to check replicability.* Now, we add in calculating joint probability"
   ]
  },
  {
   "cell_type": "code",
   "execution_count": 228,
   "metadata": {
    "collapsed": false
   },
   "outputs": [
    {
     "name": "stdout",
     "output_type": "stream",
     "text": [
      "[ 350.79863473  350.79863473  350.79863473  350.79863473  350.79863473]\n"
     ]
    }
   ],
   "source": [
    "# Then, initialize a probability vector of electrode length\n",
    "probvec = np.zeros(electrodes)\n",
    "# iterate through electrodes and get joint probs\n",
    "for i in range(0, electrodes):\n",
    "    # get prob distribution\n",
    "    probarr = get_probarr(inEEG[:, i])\n",
    "    # using probdist find joint prob\n",
    "    jp = get_jointprob(probarr)\n",
    "    # put prob in array\n",
    "    probvec[i] = jp\n",
    "print probvec"
   ]
  },
  {
   "cell_type": "code",
   "execution_count": 229,
   "metadata": {
    "collapsed": false
   },
   "outputs": [
    {
     "name": "stdout",
     "output_type": "stream",
     "text": [
      "0 nan\n",
      "1 nan\n",
      "2 nan\n",
      "3 nan\n",
      "4 nan\n",
      "350.798634728\n",
      "0.0\n",
      "[]\n"
     ]
    },
    {
     "name": "stderr",
     "output_type": "stream",
     "text": [
      "C:\\Users\\Nitin\\Anaconda2\\lib\\site-packages\\ipykernel\\__main__.py:9: RuntimeWarning: invalid value encountered in double_scalars\n",
      "C:\\Users\\Nitin\\Anaconda2\\lib\\site-packages\\ipykernel\\__main__.py:10: RuntimeWarning: invalid value encountered in double_scalars\n"
     ]
    }
   ],
   "source": [
    "# normalize probvec\n",
    "# first calc mean\n",
    "avg = np.mean(probvec)\n",
    "# then std dev\n",
    "stddev = np.std(probvec)\n",
    "# then figure out which electrodes are bad\n",
    "badelec = []\n",
    "for i in range(0, len(probvec)):\n",
    "    print i, ((avg - probvec[i]) / stddev)\n",
    "    if ((avg - probvec[i]) / stddev) >= 3.0:\n",
    "        badelec.append(i)\n",
    "print avg\n",
    "print stddev\n",
    "print badelec"
   ]
  },
  {
   "cell_type": "markdown",
   "metadata": {},
   "source": [
    "##### Note\n",
    "that there was no rejection of any electrodes, even the bad one. That's because with the given data, it was only 2 standard deviations off instead of 3."
   ]
  },
  {
   "cell_type": "markdown",
   "metadata": {},
   "source": [
    "Now define bad electrode funciton.\n",
    "\n",
    "**Input:** EEG data electrode x time x trial\n",
    "\n",
    "**Output:** bad electrode indices"
   ]
  },
  {
   "cell_type": "code",
   "execution_count": 230,
   "metadata": {
    "collapsed": false
   },
   "outputs": [],
   "source": [
    "def prob_badelec(inEEG, threshold):\n",
    "    electrodes = 0\n",
    "    trials = 0\n",
    "    times = 0\n",
    "    # Start by reshaping data (if necessary)\n",
    "    if len(inEEG.shape) == 3:\n",
    "        electrodes = inEEG.shape[1]\n",
    "        times = inEEG.shape[0]\n",
    "        trials = inEEG.shape[2]\n",
    "        inEEG = np.reshape(inEEG, (inEEG.shape[0], inEEG.shape[1] * inEEG.shape[2]))\n",
    "    elif len(inEEG.shape) != 1 or len(inEEG.shape) != 2:\n",
    "        # fail case\n",
    "        return 0\n",
    "    # Then, initialize a probability vector of electrode length\n",
    "    probvec = zeros(len(electrodes))\n",
    "    # iterate through electrodes and get joint probs\n",
    "    for i in range(0, electrodes):\n",
    "        # get prob distribution\n",
    "        probarr = get_probarr(inEEG[:, i])\n",
    "        # using probdist find joint prob\n",
    "        jp = get_jointprob(probarr)\n",
    "        # put prob in array\n",
    "        probvec[i] = jp\n",
    "    # normalize probvec\n",
    "    # first calc mean\n",
    "    avg = np.mean(probvec)\n",
    "    # then std dev\n",
    "    stddev = np.std(probvec)\n",
    "    # then figure out which electrodes are bad\n",
    "    badelec = []\n",
    "    for i in range(0, len(probvec)):\n",
    "        if ((avg - probvec[i]) / stddev) >= threshold:\n",
    "            badelec.append(i)\n",
    "    return badelec"
   ]
  }
 ],
 "metadata": {
  "anaconda-cloud": {},
  "kernelspec": {
   "display_name": "Python [default]",
   "language": "python",
   "name": "python2"
  },
  "language_info": {
   "codemirror_mode": {
    "name": "ipython",
    "version": 2
   },
   "file_extension": ".py",
   "mimetype": "text/x-python",
   "name": "python",
   "nbconvert_exporter": "python",
   "pygments_lexer": "ipython2",
   "version": "2.7.12"
  }
 },
 "nbformat": 4,
 "nbformat_minor": 1
}
