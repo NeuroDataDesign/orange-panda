{
 "cells": [
  {
   "cell_type": "markdown",
   "metadata": {},
   "source": [
    "## Discriminability"
   ]
  },
  {
   "cell_type": "markdown",
   "metadata": {},
   "source": [
    "## Algorithm"
   ]
  },
  {
   "cell_type": "markdown",
   "metadata": {},
   "source": [
    "### Description\n",
    "\n",
    "#### Discriminability measures the overall consistency and differentiability of observations.\n",
    "\n",
    "- If we have the same subject and the same conditions, the measurements via two trials should be more similar in comparison to a different subject or a different condition.\n",
    "\n",
    "- Let sample i contain physical property V_i. We cannot know the exact value of V_i, therefore our measurements will transport truth from V_i to W_i using the function f\\phi\n",
    "\n",
    "- The output of f becomes the \"raw\" observation data w_i.\n",
    "\n",
    "- Then this data has noise. We will preprocess it from wi to xi using the function g. As we can see, the function becomes x_i = g\\psi(f\\phi(v_i)).\n",
    "\n",
    "- Let i be subjects and t be trials.\n",
    "\n",
    "#### Our Assumption is that the distance between xi,t and xi,t` will be smaller in comparison to xi',t``. This is just a mathematical way of stating that the same subjects under the same conditions hopefully will have the most similar result.\n",
    "\n",
    "- Then we let delta be our metric that computes the distance between two measurements.\n",
    "\n",
    " Discriminability, D(\\psi) = P( )\n",
    "- it is the probability that within subjet distance is smaller than across subject distance.\n",
    "\n",
    "- Recall that the initial deviation (measurement) is out of our control since we receive measured data and don't measure the data ourselves, but what is in our control is the preprocessing step. Therefore, we would like to maximize the discriminability that come out of preprocessing.\n",
    "\n",
    "### When does it work well?\n",
    "\n",
    "- The effectiveness of discriminability bases on the metric that one uses to evaluate the experiment. Different types of data require a different metric. Pythagorean distance, correlation, and coherence are some examples of metrics used.\n",
    "- Ryan will demonstrate which metric to use in which condition.\n",
    "- A good time to use discriminability is when we have a clear thing that we want to \"discriminate\" against. We want to see how different inter-subject data is or inter-trial data is. "
   ]
  },
  {
   "cell_type": "markdown",
   "metadata": {},
   "source": [
    "### Pseudocode"
   ]
  },
  {
   "cell_type": "markdown",
   "metadata": {},
   "source": [
    "![alt text](http://pasteboard.co/xYaqxU0oG.png)\n",
    "https://www.overleaf.com/6854142skxwmyxfjwms#/23377679/"
   ]
  },
  {
   "cell_type": "markdown",
   "metadata": {},
   "source": [
    "### Simulation"
   ]
  },
  {
   "cell_type": "code",
   "execution_count": 1,
   "metadata": {
    "collapsed": true
   },
   "outputs": [],
   "source": [
    "import numpy as np\n",
    "import pandas as pd\n",
    "from py_disc.disc import D, naive_D"
   ]
  },
  {
   "cell_type": "code",
   "execution_count": 2,
   "metadata": {
    "collapsed": false
   },
   "outputs": [
    {
     "name": "stdout",
     "output_type": "stream",
     "text": [
      "Simple Experiment Data\n"
     ]
    },
    {
     "data": {
      "text/html": [
       "<div>\n",
       "<table border=\"1\" class=\"dataframe\">\n",
       "  <thead>\n",
       "    <tr style=\"text-align: right;\">\n",
       "      <th></th>\n",
       "      <th>Value</th>\n",
       "    </tr>\n",
       "    <tr>\n",
       "      <th>Subject</th>\n",
       "      <th></th>\n",
       "    </tr>\n",
       "  </thead>\n",
       "  <tbody>\n",
       "    <tr>\n",
       "      <th>A</th>\n",
       "      <td>2</td>\n",
       "    </tr>\n",
       "    <tr>\n",
       "      <th>A</th>\n",
       "      <td>4</td>\n",
       "    </tr>\n",
       "    <tr>\n",
       "      <th>B</th>\n",
       "      <td>5</td>\n",
       "    </tr>\n",
       "    <tr>\n",
       "      <th>B</th>\n",
       "      <td>5</td>\n",
       "    </tr>\n",
       "  </tbody>\n",
       "</table>\n",
       "</div>"
      ],
      "text/plain": [
       "         Value\n",
       "Subject       \n",
       "A            2\n",
       "A            4\n",
       "B            5\n",
       "B            5"
      ]
     },
     "execution_count": 2,
     "metadata": {},
     "output_type": "execute_result"
    }
   ],
   "source": [
    "d = np.array([[2], [4], [5], [5]])\n",
    "subjects = np.array(['A', 'A', 'B', 'B'])\n",
    "df = pd.DataFrame(data = d, index = subjects)\n",
    "df.index.name = 'Subject'\n",
    "df.columns = ['Value']\n",
    "print 'Simple Experiment Data'\n",
    "df"
   ]
  },
  {
   "cell_type": "markdown",
   "metadata": {},
   "source": [
    "We let our metric be the absolute distance between two points.  \n",
    "**\\delta = |x-y|**  \n",
    "We can see by inspection, this data has high discriminability.\n",
    "The discriminability is 0.75 by hand calculation. "
   ]
  },
  {
   "cell_type": "code",
   "execution_count": 3,
   "metadata": {
    "collapsed": false
   },
   "outputs": [
    {
     "name": "stdout",
     "output_type": "stream",
     "text": [
      "Optimized Algorithm\n",
      "1000 loops, best of 3: 687 µs per loop\n",
      "  Subject Trial Trial_Prime Partial Discriminibility\n",
      "0       A     0           1                      1.0\n",
      "1       A     1           0                      0.0\n",
      "2       B     0           1                      1.0\n",
      "3       B     1           0                      1.0\n",
      "\n",
      "Discriminibility: 0.75\n"
     ]
    }
   ],
   "source": [
    "print 'Optimized Algorithm'\n",
    "%timeit disc, info = D(d, subjects, lambda x, y: np.abs(x[0] - y[0]))\n",
    "disc, info = D(d, subjects, lambda x, y: np.abs(x[0] - y[0]))\n",
    "print info\n",
    "print\n",
    "print 'Discriminibility:', disc"
   ]
  },
  {
   "cell_type": "code",
   "execution_count": 4,
   "metadata": {
    "collapsed": false
   },
   "outputs": [
    {
     "name": "stdout",
     "output_type": "stream",
     "text": [
      "Simple Experiment Data\n"
     ]
    },
    {
     "data": {
      "text/html": [
       "<div>\n",
       "<table border=\"1\" class=\"dataframe\">\n",
       "  <thead>\n",
       "    <tr style=\"text-align: right;\">\n",
       "      <th></th>\n",
       "      <th>Value</th>\n",
       "    </tr>\n",
       "    <tr>\n",
       "      <th>Subject</th>\n",
       "      <th></th>\n",
       "    </tr>\n",
       "  </thead>\n",
       "  <tbody>\n",
       "    <tr>\n",
       "      <th>A</th>\n",
       "      <td>4</td>\n",
       "    </tr>\n",
       "    <tr>\n",
       "      <th>A</th>\n",
       "      <td>8</td>\n",
       "    </tr>\n",
       "    <tr>\n",
       "      <th>B</th>\n",
       "      <td>5</td>\n",
       "    </tr>\n",
       "    <tr>\n",
       "      <th>B</th>\n",
       "      <td>10</td>\n",
       "    </tr>\n",
       "  </tbody>\n",
       "</table>\n",
       "</div>"
      ],
      "text/plain": [
       "         Value\n",
       "Subject       \n",
       "A            4\n",
       "A            8\n",
       "B            5\n",
       "B           10"
      ]
     },
     "execution_count": 4,
     "metadata": {},
     "output_type": "execute_result"
    }
   ],
   "source": [
    "d = np.array([[4], [8], [5], [10]])\n",
    "subjects = np.array(['A', 'A', 'B', 'B'])\n",
    "df = pd.DataFrame(data = d, index = subjects)\n",
    "df.index.name = 'Subject'\n",
    "df.columns = ['Value']\n",
    "print 'Simple Experiment Data'\n",
    "df"
   ]
  },
  {
   "cell_type": "markdown",
   "metadata": {},
   "source": [
    "Within subject, this data has a lot of variations. We can see that it is going to be bad.\n",
    "By calculations, the discriminability is 0.25."
   ]
  },
  {
   "cell_type": "code",
   "execution_count": 5,
   "metadata": {
    "collapsed": false
   },
   "outputs": [
    {
     "name": "stdout",
     "output_type": "stream",
     "text": [
      "Optimized Algorithm\n",
      "1000 loops, best of 3: 684 µs per loop\n",
      "  Subject Trial Trial_Prime Partial Discriminibility\n",
      "0       A     0           1                      0.5\n",
      "1       A     1           0                      0.0\n",
      "2       B     0           1                      0.0\n",
      "3       B     1           0                      0.5\n",
      "\n",
      "Discriminibility: 0.25\n"
     ]
    }
   ],
   "source": [
    "print 'Optimized Algorithm'\n",
    "%timeit disc, info = D(d, subjects, lambda x, y: np.abs(x[0] - y[0]))\n",
    "disc, info = D(d, subjects, lambda x, y: np.abs(x[0] - y[0]))\n",
    "print info\n",
    "print\n",
    "print 'Discriminibility:', disc"
   ]
  },
  {
   "cell_type": "markdown",
   "metadata": {},
   "source": [
    "** On 2D distances **"
   ]
  },
  {
   "cell_type": "code",
   "execution_count": 6,
   "metadata": {
    "collapsed": false
   },
   "outputs": [
    {
     "data": {
      "image/png": "[encoded data removed]",
      "text/plain": [
       "<matplotlib.figure.Figure at 0x82ab978>"
      ]
     },
     "metadata": {},
     "output_type": "display_data"
    }
   ],
   "source": [
    "import matplotlib.pyplot as plt\n",
    "d = np.array([[-1, 0.5], [0, 0], [1, .5], [0, 1], [-1, 0], [1, 0]])\n",
    "subjects = np.array(['A', 'A', 'B', 'B', 'C', 'C'])\n",
    "plt.scatter(d[subjects == 'A'][:, 0], d[subjects == 'A'][:, 1],\n",
    "            color = 'red', label = 'A')\n",
    "plt.scatter(d[subjects == 'B'][:, 0], d[subjects == 'B'][:, 1],\n",
    "            color = 'blue', label = 'B')\n",
    "plt.scatter(d[subjects == 'C'][:, 0], d[subjects == 'C'][:, 1],\n",
    "            color = 'green', label = 'C')\n",
    "plt.xlabel(\"x\")\n",
    "plt.ylabel(\"y\")\n",
    "plt.title('Experiment 2')\n",
    "plt.legend()\n",
    "plt.show()"
   ]
  },
  {
   "cell_type": "code",
   "execution_count": 7,
   "metadata": {
    "collapsed": false
   },
   "outputs": [
    {
     "name": "stdout",
     "output_type": "stream",
     "text": [
      "Optimized Algorithm\n",
      "1000 loops, best of 3: 1.1 ms per loop\n",
      "Discriminibility: 0.333333333333\n",
      "  Subject Trial Trial_Prime Partial Discriminibility\n",
      "0       A     0           1                      0.5\n",
      "1       A     1           0                      0.0\n",
      "2       B     0           1                      0.5\n",
      "3       B     1           0                      0.5\n",
      "4       C     0           1                     0.25\n",
      "5       C     1           0                     0.25\n"
     ]
    }
   ],
   "source": [
    "print 'Optimized Algorithm'\n",
    "%timeit disc, info = D(d, subjects, lambda x, y: np.linalg.norm(x - y))\n",
    "disc, info = D(d, subjects, lambda x, y: np.linalg.norm(x - y))\n",
    "print 'Discriminibility:', disc\n",
    "print info"
   ]
  },
  {
   "cell_type": "markdown",
   "metadata": {},
   "source": [
    "### On Data of Different Statistical Distributions\n",
    "#### 1. Normal Distribution"
   ]
  },
  {
   "cell_type": "code",
   "execution_count": 8,
   "metadata": {
    "collapsed": false
   },
   "outputs": [
    {
     "name": "stdout",
     "output_type": "stream",
     "text": [
      "100 loops, best of 3: 12.2 ms per loop\n",
      "\n",
      "0.8\n"
     ]
    },
    {
     "data": {
      "image/png": "[encoded data removed]",
      "text/plain": [
       "<matplotlib.figure.Figure at 0xb972f28>"
      ]
     },
     "metadata": {},
     "output_type": "display_data"
    },
    {
     "name": "stdout",
     "output_type": "stream",
     "text": [
      "0.837222222222\n",
      "    Subject Trial Trial_Prime Partial Discriminibility\n",
      "0         A     0           1                      0.0\n",
      "1         A     0           2                      0.2\n",
      "2         A     0           3                      0.1\n",
      "3         A     0           4                      0.0\n",
      "4         A     0           5                      0.0\n",
      "5         A     0           6                      0.0\n",
      "6         A     0           7                      0.0\n",
      "7         A     0           8                      0.0\n",
      "8         A     0           9                      0.0\n",
      "9         A     1           0                      0.7\n",
      "10        A     1           2                      1.0\n",
      "11        A     1           3                      1.0\n",
      "12        A     1           4                      1.0\n",
      "13        A     1           5                      1.0\n",
      "14        A     1           6                      1.0\n",
      "15        A     1           7                      1.0\n",
      "16        A     1           8                      1.0\n",
      "17        A     1           9                      1.0\n",
      "18        A     2           0                      0.7\n",
      "19        A     2           1                      0.3\n",
      "20        A     2           3                      1.0\n",
      "21        A     2           4                      0.8\n",
      "22        A     2           5                      0.9\n",
      "23        A     2           6                      0.2\n",
      "24        A     2           7                      0.4\n",
      "25        A     2           8                      0.2\n",
      "26        A     2           9                      1.0\n",
      "27        A     3           0                      0.7\n",
      "28        A     3           1                      0.5\n",
      "29        A     3           2                      1.0\n",
      "..      ...   ...         ...                      ...\n",
      "150       B     6           7                      0.9\n",
      "151       B     6           8                      0.7\n",
      "152       B     6           9                      0.9\n",
      "153       B     7           0                      0.9\n",
      "154       B     7           1                      1.0\n",
      "155       B     7           2                      1.0\n",
      "156       B     7           3                      0.9\n",
      "157       B     7           4                      1.0\n",
      "158       B     7           5                      0.9\n",
      "159       B     7           6                      1.0\n",
      "160       B     7           8                      1.0\n",
      "161       B     7           9                      1.0\n",
      "162       B     8           0                      0.9\n",
      "163       B     8           1                      1.0\n",
      "164       B     8           2                      1.0\n",
      "165       B     8           3                      0.9\n",
      "166       B     8           4                      1.0\n",
      "167       B     8           5                      0.9\n",
      "168       B     8           6                      1.0\n",
      "169       B     8           7                      1.0\n",
      "170       B     8           9                      1.0\n",
      "171       B     9           0                      0.9\n",
      "172       B     9           1                      1.0\n",
      "173       B     9           2                      1.0\n",
      "174       B     9           3                      0.9\n",
      "175       B     9           4                      1.0\n",
      "176       B     9           5                      0.9\n",
      "177       B     9           6                      1.0\n",
      "178       B     9           7                      1.0\n",
      "179       B     9           8                      1.0\n",
      "\n",
      "[180 rows x 4 columns]\n"
     ]
    }
   ],
   "source": [
    "import seaborn as sns\n",
    "\n",
    "A = np.random.normal(1,0.5,10)\n",
    "B = np.random.normal(2,0.3,10)\n",
    "d = np.hstack([A, B])\n",
    "subjects = np.array(['A'] * 10 + ['B'] * 10)\n",
    "%timeit disc, info = D(d, subjects, lambda x, y: np.linalg.norm(x - y))\n",
    "print\n",
    "C = np.random.normal(1,0.5,10)\n",
    "ans = np.mean(np.abs(A - C) < np.abs(A - B))\n",
    "print ans\n",
    "results = []\n",
    "for i in range(10):\n",
    "    d = np.hstack([A,B])\n",
    "    subjects = np.array(['A'] * 10 + ['B'] * 10)\n",
    "    disc, info = D(d, subjects, lambda x, y: np.linalg.norm(x - y))\n",
    "    results.append(disc)\n",
    "sns.distplot(results, label='Disc')\n",
    "plt.vlines(ans, 0, 8)\n",
    "plt.xlabel('discriminibility')\n",
    "plt.ylabel('density')\n",
    "plt.legend()\n",
    "plt.show()\n",
    "print disc\n",
    "print info"
   ]
  },
  {
   "cell_type": "code",
   "execution_count": 9,
   "metadata": {
    "collapsed": false
   },
   "outputs": [
    {
     "data": {
      "image/png": "[encoded data removed]",
      "text/plain": [
       "<matplotlib.figure.Figure at 0xbc47f98>"
      ]
     },
     "metadata": {},
     "output_type": "display_data"
    }
   ],
   "source": [
    "n = 150\n",
    "results = []\n",
    "for i in range(100):\n",
    "    d = np.hstack([np.random.uniform(0, 2, n), np.random.uniform(1, 3, n)])\n",
    "    subjects = np.array(['A'] * n + ['B'] * n)\n",
    "    disc, info = D(d, subjects, lambda x, y: np.linalg.norm(x - y))\n",
    "    results.append(disc)\n",
    "sns.distplot(results)\n",
    "plt.vlines(ans, 0, 20)\n",
    "plt.xlabel('discriminibility')\n",
    "plt.ylabel('density')\n",
    "plt.show()\n"
   ]
  },
  {
   "cell_type": "code",
   "execution_count": null,
   "metadata": {
    "collapsed": true
   },
   "outputs": [],
   "source": []
  }
 ],
 "metadata": {
  "anaconda-cloud": {},
  "kernelspec": {
   "display_name": "Python [conda root]",
   "language": "python",
   "name": "conda-root-py"
  },
  "language_info": {
   "codemirror_mode": {
    "name": "ipython",
    "version": 2
   },
   "file_extension": ".py",
   "mimetype": "text/x-python",
   "name": "python",
   "nbconvert_exporter": "python",
   "pygments_lexer": "ipython2",
   "version": "2.7.12"
  }
 },
 "nbformat": 4,
 "nbformat_minor": 1
}
