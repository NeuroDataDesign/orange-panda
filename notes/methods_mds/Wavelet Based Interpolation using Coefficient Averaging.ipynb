{
 "cells": [
  {
   "cell_type": "markdown",
   "metadata": {},
   "source": [
    "# Wavelet Based Interpolation using Coefficient Averaging\n",
    "### Setting\n",
    "#### 1. Task\n",
    "Suppose there are $C = \\{c_1, \\ldots, c_n \\}$ signal channels coming from the same source system. Suppose that a subset $C_{bad} \\subseteq C$ of these channels are determined to be 'bad' by some other method (broken sensor, badly placed sensor, too much noise, ect). We would like to attempt to recover the signals from the bad channels via an interpolation method.\n",
    "\n",
    "#### 2. Loss Function\n",
    "$\\mathcal{L}(c) = \\sum_{j \\in N(c)} \\sqrt{ \\sum_{i = 1}^n (c[i] - c_j[i] )^2 } * \\frac{\\delta_{c, c_j}}{\\sum_{j \\in N(c)} \\delta_{c, c_j}}$.\n",
    "\n",
    "We take a weighted (by normalized great circle distance) sum of the squared error of the channel to interpolate and its closest neighbors (how many neighbors is a parameter).\n",
    "\n",
    "#### 3. Statistical Goal\n",
    "We would like to interpolate the bad channels as to minimize the sum of the loss functions over each bad channel.\n",
    "\n",
    "#### 4. Computational Goal\n",
    "\n",
    "#### 5. Desirata"
   ]
  },
  {
   "cell_type": "code",
   "execution_count": 1,
   "metadata": {
    "collapsed": true
   },
   "outputs": [],
   "source": [
    "import numpy as np\n",
    "X = np.linspace(-1/2, 1/2, 2^12)\n",
    "f = np"
   ]
  }
 ],
 "metadata": {
  "kernelspec": {
   "display_name": "Python 2",
   "language": "python",
   "name": "python2"
  },
  "language_info": {
   "codemirror_mode": {
    "name": "ipython",
    "version": 2
   },
   "file_extension": ".py",
   "mimetype": "text/x-python",
   "name": "python",
   "nbconvert_exporter": "python",
   "pygments_lexer": "ipython2",
   "version": "2.7.12"
  }
 },
 "nbformat": 4,
 "nbformat_minor": 1
}
