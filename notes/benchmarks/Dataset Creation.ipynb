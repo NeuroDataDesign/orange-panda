{
 "cells": [
  {
   "cell_type": "markdown",
   "metadata": {},
   "source": [
    "## Imports (order matters!)"
   ]
  },
  {
   "cell_type": "code",
   "execution_count": 1,
   "metadata": {
    "collapsed": false,
    "scrolled": true
   },
   "outputs": [],
   "source": [
    "import cPickle as pkl\n",
    "import numpy as np\n",
    "import sys\n",
    "sys.path.append('../..')\n",
    "import bench.dataset_creation as dc\n",
    "import bench.disc_set as d_set\n",
    "import bench.utilities as ut\n",
    "import bench.discriminibility as disc\n",
    "import methods.denoise as den\n",
    "import os\n",
    "os.chdir('../../../data')"
   ]
  },
  {
   "cell_type": "code",
   "execution_count": 2,
   "metadata": {
    "collapsed": false
   },
   "outputs": [],
   "source": [
    "import bench\n",
    "import bench.dataset_creation"
   ]
  },
  {
   "cell_type": "markdown",
   "metadata": {},
   "source": [
    "## Make a fake test data set"
   ]
  },
  {
   "cell_type": "code",
   "execution_count": 3,
   "metadata": {
    "collapsed": false
   },
   "outputs": [
    {
     "name": "stdout",
     "output_type": "stream",
     "text": [
      "participant_id\tnum_trials\n",
      "sub-0001\t2\n",
      "sub-0002\t2\n",
      "sub-0003\t2\n",
      "sub-0004\t2\n"
     ]
    }
   ],
   "source": [
    "dc.fake_dataset('fake_data', 2, 4)\n",
    "dc.print_participant_info('fake_data')"
   ]
  },
  {
   "cell_type": "code",
   "execution_count": 4,
   "metadata": {
    "collapsed": false
   },
   "outputs": [
    {
     "name": "stdout",
     "output_type": "stream",
     "text": [
      "OPENING FILE sub-0001_trial-01\n",
      "OPENING FILE sub-0001_trial-02\n",
      "OPENING FILE sub-0002_trial-01\n",
      "OPENING FILE sub-0002_trial-02\n",
      "OPENING FILE sub-0003_trial-01\n",
      "OPENING FILE sub-0003_trial-02\n",
      "OPENING FILE sub-0004_trial-01\n",
      "OPENING FILE sub-0004_trial-02\n"
     ]
    }
   ],
   "source": [
    "factory, labels = ut.data_generator_factory('fake_data')\n",
    "derivitives = [d for d in factory()]\n",
    "dc.derivative_set('fake_data', derivitives, 'testcopy')\n",
    "factory, labels = ut.data_generator_factory('fake_data_testcopy')"
   ]
  },
  {
   "cell_type": "code",
   "execution_count": 5,
   "metadata": {
    "collapsed": true
   },
   "outputs": [],
   "source": [
    "functions = [den.wavelet_sureshrink]\n",
    "params = {\n",
    "    'p_global': {\n",
    "        'wave_sure': {\n",
    "            'wave': 'db2',\n",
    "            'verbose': False\n",
    "        }\n",
    "        \n",
    "    },\n",
    "    'p_local': {\n",
    "        \n",
    "    }\n",
    "}"
   ]
  },
  {
   "cell_type": "code",
   "execution_count": 6,
   "metadata": {
    "collapsed": false
   },
   "outputs": [],
   "source": [
    "ngf = ut.ngff(factory, functions, params)"
   ]
  },
  {
   "cell_type": "code",
   "execution_count": 7,
   "metadata": {
    "collapsed": false,
    "scrolled": true
   },
   "outputs": [
    {
     "name": "stdout",
     "output_type": "stream",
     "text": [
      "OPENING FILE sub-0001_trial-01\n",
      "OPENING FILE sub-0001_trial-02\n",
      "OPENING FILE sub-0002_trial-01\n",
      "OPENING FILE sub-0002_trial-02\n",
      "OPENING FILE sub-0003_trial-01\n",
      "OPENING FILE sub-0003_trial-02\n",
      "OPENING FILE sub-0004_trial-01\n",
      "OPENING FILE sub-0004_trial-02\n",
      "Frob Corr\n",
      "0.0\n",
      "D # c(3) .7\n",
      "0.0\n",
      "D # c(4) .7\n",
      "0.354166666667\n"
     ]
    }
   ],
   "source": [
    "discs = disc.disc_all(ngf, labels, d_set.TRANSFORMS,\n",
    "              d_set.METRICS, d_set.NAMES)\n",
    "results = zip(discs, d_set.NAMES)\n",
    "with open('results/test_results.pkl', 'w') as f:\n",
    "    pkl.dump(discs, f)"
   ]
  },
  {
   "cell_type": "code",
   "execution_count": null,
   "metadata": {
    "collapsed": true
   },
   "outputs": [],
   "source": []
  }
 ],
 "metadata": {
  "kernelspec": {
   "display_name": "Python 2",
   "language": "python",
   "name": "python2"
  },
  "language_info": {
   "codemirror_mode": {
    "name": "ipython",
    "version": 2
   },
   "file_extension": ".py",
   "mimetype": "text/x-python",
   "name": "python",
   "nbconvert_exporter": "python",
   "pygments_lexer": "ipython2",
   "version": "2.7.12"
  }
 },
 "nbformat": 4,
 "nbformat_minor": 1
}
