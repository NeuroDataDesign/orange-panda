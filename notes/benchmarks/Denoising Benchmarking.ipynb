{
 "cells": [
  {
   "cell_type": "code",
   "execution_count": 1,
   "metadata": {
    "collapsed": false
   },
   "outputs": [],
   "source": [
    "import cPickle as pkl\n",
    "import numpy as np\n",
    "import sys\n",
    "sys.path.append('../..')\n",
    "import bench.discriminibility as disc\n",
    "import bench.disc_set as d_set\n",
    "import os\n",
    "os.chdir('../../../data')\n",
    "import glob as glob"
   ]
  },
  {
   "cell_type": "code",
   "execution_count": 2,
   "metadata": {
    "collapsed": false
   },
   "outputs": [],
   "source": [
    "with open('results/raw_results.pkl', 'r') as f:\n",
    "    raw = zip(*pkl.load(f))[0]\n",
    "with open('results/db1_denoise_results.pkl', 'r') as f:\n",
    "    db1 = zip(*pkl.load(f))[0]\n",
    "with open('results/db2_denoise_results.pkl', 'r') as f:\n",
    "    db2 = zip(*pkl.load(f))[0]\n",
    "with open('results/db2v_denoise_results.pkl', 'r') as f:\n",
    "    db2v = zip(*pkl.load(f))[0]\n",
    "with open('results/db4_denoise_results.pkl', 'r') as f:\n",
    "    db4 = zip(*pkl.load(f))[0]\n",
    "with open('results/db15_denoise_results.pkl', 'r') as f:\n",
    "    db15 = zip(*pkl.load(f))[0]\n",
    "with open('results/bior4.4_denoise_results.pkl', 'r') as f:\n",
    "    bior = zip(*pkl.load(f))[0]\n",
    "with open('results/bior4.4v_denoise_results.pkl', 'r') as f:\n",
    "    biorv = zip(*pkl.load(f))[0]\n",
    "with open('results/pca_denoise_results.pkl', 'r') as f:\n",
    "    pca = zip(*pkl.load(f))[0]\n",
    "with open('results/rpca_denoise_results.pkl', 'r') as f:\n",
    "    rpca = zip(*pkl.load(f))[0]\n",
    "with open('results/CMI_results.pkl', 'r') as f:\n",
    "    cmi = zip(*pkl.load(f))[0]"
   ]
  },
  {
   "cell_type": "code",
   "execution_count": 3,
   "metadata": {
    "collapsed": false,
    "scrolled": true
   },
   "outputs": [
    {
     "name": "stdout",
     "output_type": "stream",
     "text": [
      "[(0.75895316804407731, 0.71005509641873266, 0.71921487603305789), (0.75888429752066111, 0.71005509641873277, 0.71921487603305789), (0.78360881542699712, 0.69118457300275482, 0.73236914600550962), (0.77858126721763088, 0.69393939393939408, 0.73181818181818181), (0.8707823507601038, 0.62711093133785023, 0.61207458343164689)]\n"
     ]
    },
    {
     "ename": "IndexError",
     "evalue": "list index out of range",
     "output_type": "error",
     "traceback": [
      "\u001b[0;31m---------------------------------------------------------------------------\u001b[0m",
      "\u001b[0;31mIndexError\u001b[0m                                Traceback (most recent call last)",
      "\u001b[0;32m<ipython-input-3-1093d8ebe9b3>\u001b[0m in \u001b[0;36m<module>\u001b[0;34m()\u001b[0m\n\u001b[1;32m      2\u001b[0m \u001b[0;32mprint\u001b[0m \u001b[0mdiscs\u001b[0m\u001b[0;34m\u001b[0m\u001b[0m\n\u001b[1;32m      3\u001b[0m \u001b[0mnames\u001b[0m \u001b[0;34m=\u001b[0m \u001b[0;34m[\u001b[0m\u001b[0;34m'raw'\u001b[0m\u001b[0;34m,\u001b[0m \u001b[0;34m'db2'\u001b[0m\u001b[0;34m,\u001b[0m \u001b[0;34m'pca'\u001b[0m\u001b[0;34m,\u001b[0m \u001b[0;34m'rpca'\u001b[0m\u001b[0;34m,\u001b[0m \u001b[0;34m'CMI'\u001b[0m\u001b[0;34m]\u001b[0m\u001b[0;34m\u001b[0m\u001b[0m\n\u001b[0;32m----> 4\u001b[0;31m \u001b[0mdisc\u001b[0m\u001b[0;34m.\u001b[0m\u001b[0mdisc_plot\u001b[0m\u001b[0;34m(\u001b[0m\u001b[0mdiscs\u001b[0m\u001b[0;34m,\u001b[0m \u001b[0md_set\u001b[0m\u001b[0;34m.\u001b[0m\u001b[0mNAMES\u001b[0m\u001b[0;34m,\u001b[0m \u001b[0mnames\u001b[0m\u001b[0;34m)\u001b[0m\u001b[0;34m\u001b[0m\u001b[0m\n\u001b[0m\u001b[1;32m      5\u001b[0m \u001b[0;32mimport\u001b[0m \u001b[0mmatplotlib\u001b[0m\u001b[0;34m.\u001b[0m\u001b[0mpyplot\u001b[0m \u001b[0;32mas\u001b[0m \u001b[0mplt\u001b[0m\u001b[0;34m\u001b[0m\u001b[0m\n\u001b[1;32m      6\u001b[0m \u001b[0mplt\u001b[0m\u001b[0;34m.\u001b[0m\u001b[0mtitle\u001b[0m\u001b[0;34m(\u001b[0m\u001b[0;34m'Denoising Benchmarking'\u001b[0m\u001b[0;34m)\u001b[0m\u001b[0;34m\u001b[0m\u001b[0m\n",
      "\u001b[0;32m../../bench/discriminibility.pyc\u001b[0m in \u001b[0;36mdisc_plot\u001b[0;34m(discs, disc_names, exp_names)\u001b[0m\n",
      "\u001b[0;31mIndexError\u001b[0m: list index out of range"
     ]
    }
   ],
   "source": [
    "discs = [raw, db2, pca, rpca, cmi]\n",
    "print discs\n",
    "names = ['raw', 'db2', 'pca', 'rpca', 'CMI']\n",
    "disc.disc_plot(discs, d_set.NAMES, names)\n",
    "import matplotlib.pyplot as plt\n",
    "plt.title('Denoising Benchmarking')\n",
    "plt.show()"
   ]
  },
  {
   "cell_type": "code",
   "execution_count": null,
   "metadata": {
    "collapsed": true
   },
   "outputs": [],
   "source": []
  }
 ],
 "metadata": {
  "kernelspec": {
   "display_name": "Python 2",
   "language": "python",
   "name": "python2"
  },
  "language_info": {
   "codemirror_mode": {
    "name": "ipython",
    "version": 2
   },
   "file_extension": ".py",
   "mimetype": "text/x-python",
   "name": "python",
   "nbconvert_exporter": "python",
   "pygments_lexer": "ipython2",
   "version": "2.7.12"
  }
 },
 "nbformat": 4,
 "nbformat_minor": 1
}
