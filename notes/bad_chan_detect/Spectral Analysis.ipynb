{
 "cells": [
  {
   "cell_type": "markdown",
   "metadata": {},
   "source": [
    "## Step 1: Pseudocode\n",
    "\n",
    "Begin with conceptual explanations:\n",
    "\n",
    "EEGLAB looks at, when given a set of maximum and minimum threshold values that the frequency spectrum should not be deviating from the average power spectrum ([verify here](https://sccn.ucsd.edu/wiki/Chapter_01:_Rejecting_Artifacts#Rejecting_abnormal_spectra)). While relatively simple to implement, before implementing the algorithm, wanted to give a brief investigation to make sure I understood how to find average power spectrum.\n",
    "\n",
    "$Average Power Spectrum = average(spectra)$"
   ]
  },
  {
   "cell_type": "code",
   "execution_count": null,
   "metadata": {
    "collapsed": true
   },
   "outputs": [],
   "source": []
  }
 ],
 "metadata": {
  "anaconda-cloud": {},
  "kernelspec": {
   "display_name": "Python [conda root]",
   "language": "python",
   "name": "conda-root-py"
  },
  "language_info": {
   "codemirror_mode": {
    "name": "ipython",
    "version": 2
   },
   "file_extension": ".py",
   "mimetype": "text/x-python",
   "name": "python",
   "nbconvert_exporter": "python",
   "pygments_lexer": "ipython2",
   "version": "2.7.12"
  }
 },
 "nbformat": 4,
 "nbformat_minor": 1
}
