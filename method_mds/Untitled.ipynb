{
 "cells": [
  {
   "cell_type": "code",
   "execution_count": 1,
   "metadata": {},
   "outputs": [],
   "source": [
    "%matplotlib inline\n",
    "\n",
    "# Load the data\n",
    "import cPickle as pkl\n",
    "base = '../../data/bids_raw'\n",
    "path = '/sub-0001/ses-01/eeg/'\n",
    "locs = '/chan_locs.pkl'\n",
    "file_name = 'sub-0001_ses-01.pkl'\n",
    "full_path = base + path + file_name\n",
    "with open(full_path, 'rb') as f:\n",
    "    D = pkl.load(f)\n",
    "full_path = base + locs\n",
    "with open(full_path, 'rb') as f:\n",
    "    chan_locs = pkl.load(f)\n",
    "    \n",
    "# Set pipeline parameters\n",
    "import numpy as np\n",
    "import sys\n",
    "sys.path.append('..')\n",
    "from panda.methods import viz as viz\n",
    "from panda import config\n",
    "p_global = config.params['p_global']\n",
    "eog_chans = np.array(p_global['eog_chans']) - 1\n",
    "eeg_chans = np.setdiff1d(np.arange(128), eog_chans)\n",
    "p_global.update({'eog_chans': eog_chans,\n",
    "                'eeg_chans': eeg_chans})\n",
    "p_global['inter'].update({'chan_locs': chan_locs})\n",
    "p_global['plotting']['notebook'] = True"
   ]
  },
  {
   "cell_type": "code",
   "execution_count": 2,
   "metadata": {},
   "outputs": [
    {
     "name": "stdout",
     "output_type": "stream",
     "text": [
      "Channels which are zero [127]\n",
      "Channels determined bad by prob : [6]\n",
      "Channels determined bad by kurtosis : [108 114]\n",
      "Channels determined bad by std : [6]\n",
      "All channels removed [127   6 108 114   6]\n"
     ]
    }
   ],
   "source": [
    "from panda.methods.misc import setup\n",
    "(D_mc, p_local) = setup(D, {}, p_global)\n",
    "\n",
    "from panda.methods.bad_chans import bad_detec\n",
    "(D_bc, p_local) = bad_detec(D, p_local, p_global)"
   ]
  },
  {
   "cell_type": "code",
   "execution_count": null,
   "metadata": {},
   "outputs": [],
   "source": []
  },
  {
   "cell_type": "code",
   "execution_count": null,
   "metadata": {
    "collapsed": true
   },
   "outputs": [],
   "source": []
  }
 ],
 "metadata": {
  "kernelspec": {
   "display_name": "Python 2",
   "language": "python",
   "name": "python2"
  },
  "language_info": {
   "codemirror_mode": {
    "name": "ipython",
    "version": 2
   },
   "file_extension": ".py",
   "mimetype": "text/x-python",
   "name": "python",
   "nbconvert_exporter": "python",
   "pygments_lexer": "ipython2",
   "version": "2.7.13"
  }
 },
 "nbformat": 4,
 "nbformat_minor": 2
}
