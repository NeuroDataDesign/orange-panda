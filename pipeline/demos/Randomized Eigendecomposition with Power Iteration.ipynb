{
 "cells": [
  {
   "cell_type": "markdown",
   "metadata": {},
   "source": [
    "# Randomized Eigendecomposition by Power Iteration"
   ]
  },
  {
   "cell_type": "markdown",
   "metadata": {},
   "source": [
    "### Motivation / Why this needs to be done:\n",
    "\n",
    "Computing eigenvalues can be computationally expensive in the dimension of the matrix. We can see this below:\n"
   ]
  },
  {
   "cell_type": "code",
   "execution_count": 1,
   "metadata": {
    "collapsed": false
   },
   "outputs": [],
   "source": [
    "import numpy as np"
   ]
  },
  {
   "cell_type": "code",
   "execution_count": 2,
   "metadata": {
    "collapsed": false
   },
   "outputs": [
    {
     "name": "stdout",
     "output_type": "stream",
     "text": [
      "CPU times: user 156 ms, sys: 376 ms, total: 532 ms\n",
      "Wall time: 282 ms\n"
     ]
    }
   ],
   "source": [
    "%%time\n",
    "A = np.random.random([50, 176000])\n",
    "vals, vecs = np.linalg.eigh(A.dot(A.T))"
   ]
  },
  {
   "cell_type": "code",
   "execution_count": 3,
   "metadata": {
    "collapsed": false
   },
   "outputs": [
    {
     "name": "stdout",
     "output_type": "stream",
     "text": [
      "CPU times: user 3.87 s, sys: 1.88 s, total: 5.75 s\n",
      "Wall time: 1.57 s\n"
     ]
    }
   ],
   "source": [
    "%%time\n",
    "A = np.random.random([500, 176000])\n",
    "vals, vecs = np.linalg.eigh(A.dot(A.T))"
   ]
  },
  {
   "cell_type": "code",
   "execution_count": 4,
   "metadata": {
    "collapsed": false
   },
   "outputs": [
    {
     "name": "stdout",
     "output_type": "stream",
     "text": [
      "CPU times: user 15.9 s, sys: 7.73 s, total: 23.6 s\n",
      "Wall time: 5.38 s\n"
     ]
    }
   ],
   "source": [
    "%%time\n",
    "A = np.random.random([1000, 176000])\n",
    "vals, vecs = np.linalg.eigh(A.dot(A.T))"
   ]
  },
  {
   "cell_type": "markdown",
   "metadata": {},
   "source": [
    "With neuroscience data being of extremely high dimension, we need a more scalable way to perform the eigendecomposition.\n",
    "\n",
    "Note the specs of the system that produced these results:\n",
    "\n",
    "```\n",
    "                          ./+o+-       ryan@swagtop\n",
    "                  yyyyy- -yyyyyy+      OS: Ubuntu 16.04 xenial\n",
    "               ://+//////-yyyyyyo      Kernel: x86_64 Linux 4.4.0-45-generic\n",
    "           .++ .:/++++++/-.+sss/`      Uptime: 7h 20m\n",
    "         .:++o:  /++++++++/:--:/-      Packages: 2482\n",
    "        o:+o+:++.`..```.-/oo+++++/     Shell: bash 4.3.46\n",
    "       .:+o:+o/.          `+sssoo+/    Resolution: 1366x768\n",
    "  .++/+:+oo+o:`             /sssooo.   DE: Unity 7.4.0\n",
    " /+++//+:`oo+o               /::--:.   WM: Compiz\n",
    " \\+/+o+++`o++o               ++////.   WM Theme: Ambiance\n",
    "  .++.o+++oo+:`             /dddhhh.   GTK Theme: Ambiance [GTK2/3]\n",
    "       .+.o+oo:.          `oddhhhh+    Icon Theme: ubuntu-mono-dark\n",
    "        \\+.++o+o``-````.:ohdhhhhh+     Font: Ubuntu 11\n",
    "         `:o+++ `ohhhhhhhhyo++os:      CPU: Intel Core i7-4700MQ CPU @ 3.4GHz\n",
    "           .o:`.syhhhhhhh/.oo++o`      RAM: 2297MiB / 3863MiB\n",
    "               /osyyyyyyo++ooo+++/    \n",
    "                   ````` +oo+++o\\:    \n",
    "                          `oo++. \n",
    "```\n",
    "\n",
    "whereas the s3 instances we will likely be working with have less than 3.0 GHz of CPU power."
   ]
  },
  {
   "cell_type": "markdown",
   "metadata": {},
   "source": [
    "### Power Iteration Theory and Pseudocode\n",
    "\n",
    "Assume a matrix $A$ is positive definite and symmetric.\n",
    "\n",
    "Then its eigenvalues can be written\n",
    "\n",
    "$$\\lambda_1 \\geq \\lambda_2 \\geq \\ldots \\geq \\lambda_n \\gt 0$$\n",
    "\n",
    "Suppose we choose a random vector $x$ and took $Ax$.\n",
    "\n",
    "Then $x \\in span\\{A\\}$ and thus can be written $x = \\sum_{i=1}^n c_1v_1$ where $v_i$ is the $i^{th}$ eigenvector of $A$ and $n = dim(A)$.\n",
    "\n",
    "In general $$Av_i = \\lambda_iv_i \\Rightarrow A^kv_i = \\lambda_i^kv_i$$\n",
    "so $$A^kx = \\sum_{i=1}^n c_i\\lambda_i^kv_i$$\n",
    "\n",
    "assuming $c_1 \\neq 0$ we can see\n",
    "\n",
    "$$A^kx = c_1\\lambda_1^k(v_1 + \\sum_{i=2}^n c_i\\frac{\\lambda_i^k}{\\lambda_1^k}v_i)$$\n",
    "\n",
    "Now, if we are to assume that $\\frac{\\lambda_2}{\\lambda_1} < 1$ then $\\sum_{i=2}^n c_i\\frac{\\lambda_i^k}{\\lambda_1^k}v_i$ will eventually converge to 0 as $k \\rightarrow \\infty$ by the condition that the eigenvalues are sort by index.\n",
    "\n",
    "Thus, we will recover the eigenvector $v_1$ by normalizing the result. In fact, we should normalize the result after each step to prevent numerical overflow.\n",
    "\n",
    "Also, we can only find $k$ eigenvalues with this method if we wanted, which means that the total running time of this eigendecomposition would be $O(k * m * n^2)$ where $m$ is the total number of iterations. We assuming the eigen-gap $\\lambda_2/\\lambda_1$ is not very small, we can keep $m$ much smaller than $n$.\n",
    "\n",
    "The pseudocode is this:\n",
    "Input: $X$, a PDS matrix of dimension $n$. $k$, a number of iterations.\n",
    "Output: $v_1$, the top eigenvector of $X$\n",
    "\n",
    "$ITER(X, k): \\\\\n",
    "\\,\\,\\,\\, x = random(n\\times 1) \\\\\n",
    "\\,\\,\\,\\,\\, x = Ax \\\\\n",
    "\\,\\,\\,\\,\\, \\text{for } i \\text{ in } [1, k]: \\\\\n",
    "\\,\\,\\,\\,\\,\\, x = Ax \\\\\n",
    "\\,\\,\\,\\,\\,\\,\\, x = x / \\vert\\vert x \\vert\\vert \\\\\n",
    "\\,\\,\\,\\,\\, return\\,\\,x$\n",
    "\n",
    "We can then deflate and find all the other eigenvectors similarly."
   ]
  },
  {
   "cell_type": "markdown",
   "metadata": {},
   "source": [
    "### Simulations, Qualitative, Quantitative\n",
    "\n",
    "We can compute random matricies and their eigenvectors, then run our algorithm, then check the frobenius norm between the top k eigenvectors of the fully computed eigenvectors and our estimated eigenvectors close.\n",
    "\n",
    "Simulations: Generate a random $n \\times m$ matrix, and find the top $k$ eigenvectors of the covariance matrix using numpy libraries. Then do the same with our methods.\n",
    "\n",
    "Quantitative results: Frobenius norm of our eigenmatrix with the 'true' eigenmatrix\n",
    "\n",
    "Qualitative results: Plot of error as a function of # of iterations."
   ]
  },
  {
   "cell_type": "code",
   "execution_count": 5,
   "metadata": {
    "collapsed": false
   },
   "outputs": [],
   "source": [
    "def power_iteration(A, x, k, prev):\n",
    "    for i in xrange(k):\n",
    "        x = A.dot(x)\n",
    "        x = x / np.linalg.norm(x)\n",
    "        for p in prev:\n",
    "            x = x - x.dot(p) * p/np.linalg.norm(p)\n",
    "    return x, x.T.dot(A).dot(x)/x.T.dot(x)\n",
    "     \n",
    "\n",
    "def deflate(A, k, m):\n",
    "    evecs = []\n",
    "    evs = []\n",
    "    for i in range(k):\n",
    "        x = np.random.random([A.shape[1],])\n",
    "        v, l = power_iteration(A, x, m, evecs)\n",
    "        evs.append(l)\n",
    "        evecs.append(v)\n",
    "    return np.column_stack([evecs]).T, np.column_stack([evs])\n"
   ]
  },
  {
   "cell_type": "code",
   "execution_count": 6,
   "metadata": {
    "collapsed": false,
    "scrolled": true
   },
   "outputs": [
    {
     "data": {
      "image/png": "[encoded data removed]",
      "text/plain": [
       "<matplotlib.figure.Figure at 0x7fd8aeae7810>"
      ]
     },
     "metadata": {},
     "output_type": "display_data"
    },
    {
     "data": {
      "image/png": "[encoded data removed]",
      "text/plain": [
       "<matplotlib.figure.Figure at 0x7fd8dc072210>"
      ]
     },
     "metadata": {},
     "output_type": "display_data"
    },
    {
     "data": {
      "image/png": "[encoded data removed]",
      "text/plain": [
       "<matplotlib.figure.Figure at 0x7fd8ab267f90>"
      ]
     },
     "metadata": {},
     "output_type": "display_data"
    }
   ],
   "source": [
    "import matplotlib.pyplot as plt\n",
    "M = np.arange(0, 1000, 10)\n",
    "n = 100\n",
    "t = 1760\n",
    "k = 5\n",
    "def qualitative_test(M, n, t, k):\n",
    "    norms = []\n",
    "    for i in M:\n",
    "        A = np.random.normal(size=[n, t])\n",
    "        A = A.dot(A.T)\n",
    "        l, v = np.linalg.eigh(A)\n",
    "        v_k = -1 * v[:, -k:][:, ::-1]\n",
    "        evs, els= deflate(A, k, i)\n",
    "        norms.append(np.linalg.norm(np.abs(v_k) - np.abs(evs)))\n",
    "    plt.plot(M, norms)\n",
    "    plt.title(\"Approximation error of power iteration method\")\n",
    "    plt.xlabel(\"Number of iterations\")\n",
    "    plt.ylabel(\"Frobenius norm (of top k eigenvectors)\")\n",
    "    plt.show()\n",
    "qualitative_test(np.arange(0, 1000, 10), 100, 1760, 5)\n",
    "qualitative_test(np.arange(0, 3000, 100), 200, 1000, 8)\n",
    "qualitative_test(np.arange(0, 1000, 50), 300, 500, 10)"
   ]
  },
  {
   "cell_type": "code",
   "execution_count": 7,
   "metadata": {
    "collapsed": true
   },
   "outputs": [],
   "source": [
    "def speed_test_PI(n, t):\n",
    "    k = 1\n",
    "    for i in range(t):\n",
    "        A = np.random.normal(size=[n, 500])\n",
    "        A = A.dot(A.T)\n",
    "        evs, els= deflate(A, k, 500)\n",
    "        \n",
    "def speed_test_EIGH(n,t):\n",
    "    k = 1\n",
    "    for i in range(t):\n",
    "        A = np.random.normal(size=[n, 500])\n",
    "        A = A.dot(A.T)\n",
    "        l, v = np.linalg.eigh(A)\n",
    "        v_k = -1 * v[:, -k:][:, ::-1]"
   ]
  },
  {
   "cell_type": "code",
   "execution_count": 8,
   "metadata": {
    "collapsed": false
   },
   "outputs": [
    {
     "name": "stdout",
     "output_type": "stream",
     "text": [
      "CPU times: user 184 ms, sys: 600 ms, total: 784 ms\n",
      "Wall time: 101 ms\n"
     ]
    }
   ],
   "source": [
    "%%time\n",
    "speed_test_PI(100, 10)"
   ]
  },
  {
   "cell_type": "code",
   "execution_count": 9,
   "metadata": {
    "collapsed": false
   },
   "outputs": [
    {
     "name": "stdout",
     "output_type": "stream",
     "text": [
      "CPU times: user 232 ms, sys: 808 ms, total: 1.04 s\n",
      "Wall time: 137 ms\n"
     ]
    }
   ],
   "source": [
    "%%time\n",
    "speed_test_EIGH(100, 10)"
   ]
  },
  {
   "cell_type": "code",
   "execution_count": 10,
   "metadata": {
    "collapsed": false
   },
   "outputs": [
    {
     "name": "stdout",
     "output_type": "stream",
     "text": [
      "CPU times: user 1.15 s, sys: 1.71 s, total: 2.86 s\n",
      "Wall time: 361 ms\n"
     ]
    }
   ],
   "source": [
    "%%time\n",
    "speed_test_PI(500, 10)"
   ]
  },
  {
   "cell_type": "code",
   "execution_count": 11,
   "metadata": {
    "collapsed": false
   },
   "outputs": [
    {
     "name": "stdout",
     "output_type": "stream",
     "text": [
      "CPU times: user 2.84 s, sys: 7.28 s, total: 10.1 s\n",
      "Wall time: 1.27 s\n"
     ]
    }
   ],
   "source": [
    "%%time\n",
    "speed_test_EIGH(500, 10)"
   ]
  },
  {
   "cell_type": "code",
   "execution_count": 12,
   "metadata": {
    "collapsed": false
   },
   "outputs": [
    {
     "name": "stdout",
     "output_type": "stream",
     "text": [
      "CPU times: user 13.9 s, sys: 6.18 s, total: 20 s\n",
      "Wall time: 2.52 s\n"
     ]
    }
   ],
   "source": [
    "%%time\n",
    "speed_test_PI(1000, 10)"
   ]
  },
  {
   "cell_type": "code",
   "execution_count": 13,
   "metadata": {
    "collapsed": false
   },
   "outputs": [
    {
     "name": "stdout",
     "output_type": "stream",
     "text": [
      "CPU times: user 11.3 s, sys: 14.3 s, total: 25.5 s\n",
      "Wall time: 3.21 s\n"
     ]
    }
   ],
   "source": [
    "%%time\n",
    "speed_test_EIGH(1000, 10)"
   ]
  },
  {
   "cell_type": "code",
   "execution_count": 14,
   "metadata": {
    "collapsed": false
   },
   "outputs": [
    {
     "name": "stdout",
     "output_type": "stream",
     "text": [
      "CPU times: user 2min 27s, sys: 10.4 s, total: 2min 37s\n",
      "Wall time: 20.7 s\n"
     ]
    }
   ],
   "source": [
    "%%time\n",
    "speed_test_PI(5000, 2)"
   ]
  },
  {
   "cell_type": "code",
   "execution_count": 15,
   "metadata": {
    "collapsed": false
   },
   "outputs": [
    {
     "name": "stdout",
     "output_type": "stream",
     "text": [
      "CPU times: user 7min 30s, sys: 54.8 s, total: 8min 25s\n",
      "Wall time: 1min 11s\n"
     ]
    }
   ],
   "source": [
    "%%time\n",
    "speed_test_EIGH(5000, 2)"
   ]
  }
 ],
 "metadata": {
  "kernelspec": {
   "display_name": "Python 2",
   "language": "python",
   "name": "python2"
  },
  "language_info": {
   "codemirror_mode": {
    "name": "ipython",
    "version": 2
   },
   "file_extension": ".py",
   "mimetype": "text/x-python",
   "name": "python",
   "nbconvert_exporter": "python",
   "pygments_lexer": "ipython2",
   "version": "2.7.12"
  }
 },
 "nbformat": 4,
 "nbformat_minor": 1
}
