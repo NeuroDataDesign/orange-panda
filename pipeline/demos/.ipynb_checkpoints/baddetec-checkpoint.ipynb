{
 "cells": [
  {
   "cell_type": "markdown",
   "metadata": {},
   "source": [
    "# Bad Electrode Detection\n",
    "\n",
    "Start by importing dependencies. Will need scipy and numpy"
   ]
  },
  {
   "cell_type": "code",
   "execution_count": 50,
   "metadata": {
    "collapsed": false
   },
   "outputs": [
    {
     "ename": "ImportError",
     "evalue": "No module named utils.plots",
     "output_type": "error",
     "traceback": [
      "\u001b[0;31m---------------------------------------------------------------------------\u001b[0m",
      "\u001b[0;31mImportError\u001b[0m                               Traceback (most recent call last)",
      "\u001b[0;32m<ipython-input-50-60dbcfe48ede>\u001b[0m in \u001b[0;36m<module>\u001b[0;34m()\u001b[0m\n\u001b[1;32m      3\u001b[0m \u001b[1;32mimport\u001b[0m \u001b[0msys\u001b[0m\u001b[1;33m\u001b[0m\u001b[0m\n\u001b[1;32m      4\u001b[0m \u001b[0msys\u001b[0m\u001b[1;33m.\u001b[0m\u001b[0mpath\u001b[0m\u001b[1;33m.\u001b[0m\u001b[0mappend\u001b[0m\u001b[1;33m(\u001b[0m\u001b[1;34m'../src/'\u001b[0m\u001b[1;33m)\u001b[0m\u001b[1;33m\u001b[0m\u001b[0m\n\u001b[0;32m----> 5\u001b[0;31m \u001b[1;32mimport\u001b[0m \u001b[0mutils\u001b[0m\u001b[1;33m.\u001b[0m\u001b[0mplots\u001b[0m \u001b[1;32mas\u001b[0m \u001b[0mplots\u001b[0m\u001b[1;33m\u001b[0m\u001b[0m\n\u001b[0m",
      "\u001b[0;31mImportError\u001b[0m: No module named utils.plots"
     ]
    }
   ],
   "source": [
    "from scipy import stats\n",
    "import numpy as np\n",
    "import sys\n",
    "sys.path.append('../src/')\n",
    "import utils.plots as plots"
   ]
  },
  {
   "cell_type": "markdown",
   "metadata": {},
   "source": [
    "Define probability distribution wrapper function. For now simply implements KDE."
   ]
  },
  {
   "cell_type": "code",
   "execution_count": 36,
   "metadata": {
    "collapsed": false
   },
   "outputs": [],
   "source": [
    "def get_probarr(elec):\n",
    "    kernel = stats.gaussian_kde(values)\n",
    "    return np.reshape(kernel(positions).T, elec.shape)"
   ]
  },
  {
   "cell_type": "markdown",
   "metadata": {},
   "source": [
    "Define the joint prob function to be used later"
   ]
  },
  {
   "cell_type": "code",
   "execution_count": 40,
   "metadata": {
    "collapsed": true
   },
   "outputs": [],
   "source": [
    "def jointprob(probarr):\n",
    "    return -np.sum(np.multiply(probarr, np.log(probarr)))"
   ]
  },
  {
   "cell_type": "markdown",
   "metadata": {},
   "source": [
    "## Simulated Data\n",
    "Basically, this method will call out data that has more variation and thus is less likely to be true than others. So basically, I'm going to make some really closely bunched sine waves and then a really big and drawn out sine wave, and see if the bigger one gets called out for having too much variation. Will potentially make this a huge noisy data instead.\n",
    "\n",
    "### First generate simulated data"
   ]
  },
  {
   "cell_type": "code",
   "execution_count": 44,
   "metadata": {
    "collapsed": true
   },
   "outputs": [],
   "source": [
    "from random import random as rnd\n",
    "def sp_to_crt(theta, phi, r, rad):\n",
    "    x = rad * np.sin(theta) * np.cos(phi)\n",
    "    y = rad * np.sin(theta) * np.sin(phi)\n",
    "    z = rad * np.cos(theta)\n",
    "    return x,y,z\n",
    "def rand_coord():\n",
    "    return [rnd() * 180, rnd() * 90, 1]\n",
    "coords = np.asarray([rand_coord() for _ in xrange(5)])\n",
    "coords = np.expand_dims(coords, 2)\n",
    "crt = np.asarray(map(lambda x: sp_to_crt(*x, rad = 1),coords))"
   ]
  },
  {
   "cell_type": "code",
   "execution_count": 45,
   "metadata": {
    "collapsed": false
   },
   "outputs": [
    {
     "ename": "NameError",
     "evalue": "name 'plots' is not defined",
     "output_type": "error",
     "traceback": [
      "\u001b[0;31m---------------------------------------------------------------------------\u001b[0m",
      "\u001b[0;31mNameError\u001b[0m                                 Traceback (most recent call last)",
      "\u001b[0;32m<ipython-input-45-45aee7507dfd>\u001b[0m in \u001b[0;36m<module>\u001b[0;34m()\u001b[0m\n\u001b[0;32m----> 1\u001b[0;31m plots.plot_timeseries(data = data,\n\u001b[0m\u001b[1;32m      2\u001b[0m                       \u001b[0mtime\u001b[0m \u001b[1;33m=\u001b[0m \u001b[0mtimes\u001b[0m\u001b[1;33m,\u001b[0m\u001b[1;33m\u001b[0m\u001b[0m\n\u001b[1;32m      3\u001b[0m                       \u001b[0mselector\u001b[0m \u001b[1;33m=\u001b[0m \u001b[1;34m\"all\"\u001b[0m\u001b[1;33m,\u001b[0m\u001b[1;33m\u001b[0m\u001b[0m\n\u001b[1;32m      4\u001b[0m                       \u001b[0mtitle\u001b[0m \u001b[1;33m=\u001b[0m \u001b[1;34m\"Channel Data\"\u001b[0m\u001b[1;33m,\u001b[0m\u001b[1;33m\u001b[0m\u001b[0m\n\u001b[1;32m      5\u001b[0m                       \u001b[0mxlab\u001b[0m \u001b[1;33m=\u001b[0m \u001b[1;34mr'$t$'\u001b[0m\u001b[1;33m,\u001b[0m\u001b[1;33m\u001b[0m\u001b[0m\n",
      "\u001b[0;31mNameError\u001b[0m: name 'plots' is not defined"
     ]
    }
   ],
   "source": [
    "plots.plot_timeseries(data = data,\n",
    "                      time = times,\n",
    "                      selector = \"all\",\n",
    "                      title = \"Channel Data\",\n",
    "                      xlab = r'$t$',\n",
    "                      ylab = r'$y$')\n",
    "int_coord = list(rand_coord())[:-1]\n",
    "\n",
    "interpolated = gc_invdist_interp(data, int_coord, coords, 1, 5)[0]\n",
    "interpolated = interpolated.reshape(len(interpolated), 1, 1)\n",
    "plots.plot_timeseries(data = interpolated,\n",
    "                      time = times,\n",
    "                      selector = \"all\",\n",
    "                      title = \"Interpolated\",\n",
    "                      xlab = r'$t$',\n",
    "                      ylab = r'$y$')"
   ]
  },
  {
   "cell_type": "markdown",
   "metadata": {},
   "source": [
    "#### Go step by step.\n",
    "Start by reshaping data"
   ]
  },
  {
   "cell_type": "code",
   "execution_count": null,
   "metadata": {
    "collapsed": true
   },
   "outputs": [],
   "source": [
    "electrodes = 0\n",
    "trials = 0\n",
    "times = 0\n",
    "\n",
    "if len(inEEG.shape) == 3:\n",
    "    electrodes = inEEG.shape[0]\n",
    "    times = inEEG.shape[1]\n",
    "    trials = inEEG.shape[2]\n",
    "    inEEG = np.reshape(inEEG, (inEEG.shape[0], inEEG.shape[1] * inEEG.shape[2]))\n",
    "elif len(inEEG.shape) != 1 or len(inEEG.shape) != 2:\n",
    "    # fail case\n",
    "    return 0"
   ]
  },
  {
   "cell_type": "markdown",
   "metadata": {},
   "source": [
    "Now define bad electrode funciton.\n",
    "\n",
    "**Input:** EEG data electrode x time x trial\n",
    "\n",
    "**Output:** bad electrode indices"
   ]
  },
  {
   "cell_type": "code",
   "execution_count": 38,
   "metadata": {
    "collapsed": false
   },
   "outputs": [],
   "source": [
    "def prob_badelec(inEEG):\n",
    "    electrodes = 0\n",
    "    trials = 0\n",
    "    times = 0\n",
    "    # Start by reshaping data (if necessary)\n",
    "    if len(inEEG.shape) == 3:\n",
    "        electrodes = inEEG.shape[0]\n",
    "        times = inEEG.shape[1]\n",
    "        trials = inEEG.shape[2]\n",
    "        inEEG = np.reshape(inEEG, (inEEG.shape[0], inEEG.shape[1] * inEEG.shape[2]))\n",
    "    elif len(inEEG.shape) != 1 or len(inEEG.shape) != 2:\n",
    "        # fail case\n",
    "        return 0\n",
    "    # Then, initialize a probability vector of electrode length\n",
    "    probvec = zeros(len(electrodes))\n",
    "    # iterate through electrodes and get joint probs\n",
    "    for i in range(0, electrodes):\n",
    "        # get prob distribution\n",
    "        probdist = get_probdist(inEEG[i, :])\n",
    "        # using probdist find joint prob\n",
    "        jp = get_jointprob(probdist, inEEG[i, :])\n",
    "        # put prob in array\n",
    "        probvec[i] = jp\n",
    "    # normalize probvec\n",
    "    # first calc mean\n",
    "    avg = np.mean(probvec)\n",
    "    # then std dev\n",
    "    stddev = np.std(probvec)\n",
    "    # then figure out which electrodes are bad\n",
    "    badelec = []\n",
    "    for i in range(0, len(probvec)):\n",
    "        if ((avg - probvec[i]) / stddev) >= 3:\n",
    "            badelec.append(i)\n",
    "    return badelec"
   ]
  },
  {
   "cell_type": "code",
   "execution_count": null,
   "metadata": {
    "collapsed": true
   },
   "outputs": [],
   "source": []
  }
 ],
 "metadata": {
  "kernelspec": {
   "display_name": "Python [default]",
   "language": "python",
   "name": "python2"
  },
  "language_info": {
   "codemirror_mode": {
    "name": "ipython",
    "version": 2
   },
   "file_extension": ".py",
   "mimetype": "text/x-python",
   "name": "python",
   "nbconvert_exporter": "python",
   "pygments_lexer": "ipython2",
   "version": "2.7.12"
  }
 },
 "nbformat": 4,
 "nbformat_minor": 1
}
